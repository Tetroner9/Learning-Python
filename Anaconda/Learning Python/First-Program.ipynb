{
 "cells": [
  {
   "cell_type": "markdown",
   "id": "91b3ee14",
   "metadata": {},
   "source": [
    "## Printing Hello World"
   ]
  },
  {
   "cell_type": "code",
   "execution_count": null,
   "id": "bf01cf98",
   "metadata": {
    "scrolled": true
   },
   "outputs": [],
   "source": [
    "print(\"Hello World\")"
   ]
  },
  {
   "cell_type": "markdown",
   "id": "07772c50",
   "metadata": {},
   "source": [
    "## Printing my name"
   ]
  },
  {
   "cell_type": "code",
   "execution_count": null,
   "id": "8357b56e",
   "metadata": {},
   "outputs": [],
   "source": [
    "print(\"Om Kadam\")"
   ]
  }
 ],
 "metadata": {
  "kernelspec": {
   "display_name": "Python 3 (ipykernel)",
   "language": "python",
   "name": "python3"
  },
  "language_info": {
   "codemirror_mode": {
    "name": "ipython",
    "version": 3
   },
   "file_extension": ".py",
   "mimetype": "text/x-python",
   "name": "python",
   "nbconvert_exporter": "python",
   "pygments_lexer": "ipython3",
   "version": "3.9.13"
  }
 },
 "nbformat": 4,
 "nbformat_minor": 5
}
