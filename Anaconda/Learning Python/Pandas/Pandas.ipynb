{
 "cells": [
  {
   "cell_type": "markdown",
   "source": [
    "# Pandas"
   ],
   "metadata": {
    "collapsed": false
   }
  },
  {
   "cell_type": "code",
   "execution_count": 2,
   "outputs": [],
   "source": [
    "import pandas as pd\n",
    "import os\n",
    "import seaborn as sns\n",
    "import matplotlib.pyplot as plt\n",
    "import numpy as np\n",
    "os.chdir('E:\\Programming\\Anaconda\\Learning Python\\Pandas')\n"
   ],
   "metadata": {
    "collapsed": false
   }
  },
  {
   "cell_type": "code",
   "execution_count": 3,
   "outputs": [],
   "source": [
    "df = pd.read_csv(\"hotel_bookings.csv\")\n"
   ],
   "metadata": {
    "collapsed": false
   }
  },
  {
   "cell_type": "code",
   "execution_count": 94,
   "outputs": [
    {
     "data": {
      "text/plain": "          hotel  is_canceled  lead_time  arrival_date_year arrival_date_month  \\\n0  Resort Hotel            0        342               2015               July   \n1  Resort Hotel            0        737               2015               July   \n2  Resort Hotel            0          7               2015               July   \n3  Resort Hotel            0         13               2015               July   \n4  Resort Hotel            0         14               2015               July   \n\n   arrival_date_week_number  arrival_date_day_of_month  \\\n0                        27                          1   \n1                        27                          1   \n2                        27                          1   \n3                        27                          1   \n4                        27                          1   \n\n   stays_in_weekend_nights  stays_in_week_nights  adults  ...  deposit_type  \\\n0                        0                     0       2  ...    No Deposit   \n1                        0                     0       2  ...    No Deposit   \n2                        0                     1       1  ...    No Deposit   \n3                        0                     1       1  ...    No Deposit   \n4                        0                     2       2  ...    No Deposit   \n\n   agent company days_in_waiting_list customer_type   adr  \\\n0    NaN     NaN                    0     Transient   0.0   \n1    NaN     NaN                    0     Transient   0.0   \n2    NaN     NaN                    0     Transient  75.0   \n3  304.0     NaN                    0     Transient  75.0   \n4  240.0     NaN                    0     Transient  98.0   \n\n   required_car_parking_spaces  total_of_special_requests  reservation_status  \\\n0                            0                          0           Check-Out   \n1                            0                          0           Check-Out   \n2                            0                          0           Check-Out   \n3                            0                          0           Check-Out   \n4                            0                          1           Check-Out   \n\n  reservation_status_date  \n0              07-01-2015  \n1              07-01-2015  \n2              07-02-2015  \n3              07-02-2015  \n4              07-03-2015  \n\n[5 rows x 32 columns]",
      "text/html": "<div>\n<style scoped>\n    .dataframe tbody tr th:only-of-type {\n        vertical-align: middle;\n    }\n\n    .dataframe tbody tr th {\n        vertical-align: top;\n    }\n\n    .dataframe thead th {\n        text-align: right;\n    }\n</style>\n<table border=\"1\" class=\"dataframe\">\n  <thead>\n    <tr style=\"text-align: right;\">\n      <th></th>\n      <th>hotel</th>\n      <th>is_canceled</th>\n      <th>lead_time</th>\n      <th>arrival_date_year</th>\n      <th>arrival_date_month</th>\n      <th>arrival_date_week_number</th>\n      <th>arrival_date_day_of_month</th>\n      <th>stays_in_weekend_nights</th>\n      <th>stays_in_week_nights</th>\n      <th>adults</th>\n      <th>...</th>\n      <th>deposit_type</th>\n      <th>agent</th>\n      <th>company</th>\n      <th>days_in_waiting_list</th>\n      <th>customer_type</th>\n      <th>adr</th>\n      <th>required_car_parking_spaces</th>\n      <th>total_of_special_requests</th>\n      <th>reservation_status</th>\n      <th>reservation_status_date</th>\n    </tr>\n  </thead>\n  <tbody>\n    <tr>\n      <th>0</th>\n      <td>Resort Hotel</td>\n      <td>0</td>\n      <td>342</td>\n      <td>2015</td>\n      <td>July</td>\n      <td>27</td>\n      <td>1</td>\n      <td>0</td>\n      <td>0</td>\n      <td>2</td>\n      <td>...</td>\n      <td>No Deposit</td>\n      <td>NaN</td>\n      <td>NaN</td>\n      <td>0</td>\n      <td>Transient</td>\n      <td>0.0</td>\n      <td>0</td>\n      <td>0</td>\n      <td>Check-Out</td>\n      <td>07-01-2015</td>\n    </tr>\n    <tr>\n      <th>1</th>\n      <td>Resort Hotel</td>\n      <td>0</td>\n      <td>737</td>\n      <td>2015</td>\n      <td>July</td>\n      <td>27</td>\n      <td>1</td>\n      <td>0</td>\n      <td>0</td>\n      <td>2</td>\n      <td>...</td>\n      <td>No Deposit</td>\n      <td>NaN</td>\n      <td>NaN</td>\n      <td>0</td>\n      <td>Transient</td>\n      <td>0.0</td>\n      <td>0</td>\n      <td>0</td>\n      <td>Check-Out</td>\n      <td>07-01-2015</td>\n    </tr>\n    <tr>\n      <th>2</th>\n      <td>Resort Hotel</td>\n      <td>0</td>\n      <td>7</td>\n      <td>2015</td>\n      <td>July</td>\n      <td>27</td>\n      <td>1</td>\n      <td>0</td>\n      <td>1</td>\n      <td>1</td>\n      <td>...</td>\n      <td>No Deposit</td>\n      <td>NaN</td>\n      <td>NaN</td>\n      <td>0</td>\n      <td>Transient</td>\n      <td>75.0</td>\n      <td>0</td>\n      <td>0</td>\n      <td>Check-Out</td>\n      <td>07-02-2015</td>\n    </tr>\n    <tr>\n      <th>3</th>\n      <td>Resort Hotel</td>\n      <td>0</td>\n      <td>13</td>\n      <td>2015</td>\n      <td>July</td>\n      <td>27</td>\n      <td>1</td>\n      <td>0</td>\n      <td>1</td>\n      <td>1</td>\n      <td>...</td>\n      <td>No Deposit</td>\n      <td>304.0</td>\n      <td>NaN</td>\n      <td>0</td>\n      <td>Transient</td>\n      <td>75.0</td>\n      <td>0</td>\n      <td>0</td>\n      <td>Check-Out</td>\n      <td>07-02-2015</td>\n    </tr>\n    <tr>\n      <th>4</th>\n      <td>Resort Hotel</td>\n      <td>0</td>\n      <td>14</td>\n      <td>2015</td>\n      <td>July</td>\n      <td>27</td>\n      <td>1</td>\n      <td>0</td>\n      <td>2</td>\n      <td>2</td>\n      <td>...</td>\n      <td>No Deposit</td>\n      <td>240.0</td>\n      <td>NaN</td>\n      <td>0</td>\n      <td>Transient</td>\n      <td>98.0</td>\n      <td>0</td>\n      <td>1</td>\n      <td>Check-Out</td>\n      <td>07-03-2015</td>\n    </tr>\n  </tbody>\n</table>\n<p>5 rows × 32 columns</p>\n</div>"
     },
     "execution_count": 94,
     "metadata": {},
     "output_type": "execute_result"
    }
   ],
   "source": [
    "df.head()"
   ],
   "metadata": {
    "collapsed": false
   }
  },
  {
   "cell_type": "code",
   "execution_count": null,
   "outputs": [],
   "source": [
    "df.shape"
   ],
   "metadata": {
    "collapsed": false
   }
  },
  {
   "cell_type": "code",
   "execution_count": null,
   "outputs": [],
   "source": [
    "df.head(10)"
   ],
   "metadata": {
    "collapsed": false
   }
  },
  {
   "cell_type": "code",
   "execution_count": null,
   "outputs": [],
   "source": [
    "df.tail()"
   ],
   "metadata": {
    "collapsed": false
   }
  },
  {
   "cell_type": "code",
   "execution_count": null,
   "outputs": [],
   "source": [
    "df.tail(10)"
   ],
   "metadata": {
    "collapsed": false
   }
  },
  {
   "cell_type": "code",
   "execution_count": null,
   "outputs": [],
   "source": [
    "df.sample(10)"
   ],
   "metadata": {
    "collapsed": false
   }
  },
  {
   "cell_type": "code",
   "execution_count": null,
   "outputs": [],
   "source": [
    "df.info()"
   ],
   "metadata": {
    "collapsed": false
   }
  },
  {
   "cell_type": "code",
   "execution_count": null,
   "outputs": [],
   "source": [
    "df.dtypes"
   ],
   "metadata": {
    "collapsed": false
   }
  },
  {
   "cell_type": "code",
   "execution_count": null,
   "outputs": [],
   "source": [
    "df.isnull().sum()"
   ],
   "metadata": {
    "collapsed": false
   }
  },
  {
   "cell_type": "code",
   "execution_count": null,
   "outputs": [],
   "source": [
    "df.describe()"
   ],
   "metadata": {
    "collapsed": false
   }
  },
  {
   "cell_type": "code",
   "execution_count": null,
   "outputs": [],
   "source": [
    "df.describe(include=\"all\")"
   ],
   "metadata": {
    "collapsed": false
   }
  },
  {
   "cell_type": "markdown",
   "source": [
    "# Cardio Fitness"
   ],
   "metadata": {
    "collapsed": false
   }
  },
  {
   "cell_type": "code",
   "execution_count": 4,
   "outputs": [],
   "source": [
    "my_data = pd.read_csv(\"CardioGoodFitness-1.csv\")"
   ],
   "metadata": {
    "collapsed": false
   }
  },
  {
   "cell_type": "code",
   "execution_count": 5,
   "outputs": [
    {
     "data": {
      "text/plain": "    Product  Age  Gender  Education MaritalStatus  Usage  Fitness  Income  \\\n42    TM195   27    Male         16        Single      4        3   54576   \n35    TM195   26  Female         16     Partnered      4        3   52302   \n80    TM498   19    Male         14        Single      3        3   31836   \n34    TM195   26  Female         14     Partnered      3        4   44343   \n63    TM195   35    Male         16     Partnered      4        3   48891   \n60    TM195   33  Female         16     Partnered      3        3   46617   \n26    TM195   24  Female         16        Single      4        3   46617   \n11    TM195   22  Female         14     Partnered      3        2   35247   \n162   TM798   28  Female         18     Partnered      6        5   92131   \n29    TM195   25  Female         14     Partnered      2        2   53439   \n\n     Miles  \n42      85  \n35     113  \n80      64  \n34     113  \n63      85  \n60      85  \n26      75  \n11      66  \n162    180  \n29      47  ",
      "text/html": "<div>\n<style scoped>\n    .dataframe tbody tr th:only-of-type {\n        vertical-align: middle;\n    }\n\n    .dataframe tbody tr th {\n        vertical-align: top;\n    }\n\n    .dataframe thead th {\n        text-align: right;\n    }\n</style>\n<table border=\"1\" class=\"dataframe\">\n  <thead>\n    <tr style=\"text-align: right;\">\n      <th></th>\n      <th>Product</th>\n      <th>Age</th>\n      <th>Gender</th>\n      <th>Education</th>\n      <th>MaritalStatus</th>\n      <th>Usage</th>\n      <th>Fitness</th>\n      <th>Income</th>\n      <th>Miles</th>\n    </tr>\n  </thead>\n  <tbody>\n    <tr>\n      <th>42</th>\n      <td>TM195</td>\n      <td>27</td>\n      <td>Male</td>\n      <td>16</td>\n      <td>Single</td>\n      <td>4</td>\n      <td>3</td>\n      <td>54576</td>\n      <td>85</td>\n    </tr>\n    <tr>\n      <th>35</th>\n      <td>TM195</td>\n      <td>26</td>\n      <td>Female</td>\n      <td>16</td>\n      <td>Partnered</td>\n      <td>4</td>\n      <td>3</td>\n      <td>52302</td>\n      <td>113</td>\n    </tr>\n    <tr>\n      <th>80</th>\n      <td>TM498</td>\n      <td>19</td>\n      <td>Male</td>\n      <td>14</td>\n      <td>Single</td>\n      <td>3</td>\n      <td>3</td>\n      <td>31836</td>\n      <td>64</td>\n    </tr>\n    <tr>\n      <th>34</th>\n      <td>TM195</td>\n      <td>26</td>\n      <td>Female</td>\n      <td>14</td>\n      <td>Partnered</td>\n      <td>3</td>\n      <td>4</td>\n      <td>44343</td>\n      <td>113</td>\n    </tr>\n    <tr>\n      <th>63</th>\n      <td>TM195</td>\n      <td>35</td>\n      <td>Male</td>\n      <td>16</td>\n      <td>Partnered</td>\n      <td>4</td>\n      <td>3</td>\n      <td>48891</td>\n      <td>85</td>\n    </tr>\n    <tr>\n      <th>60</th>\n      <td>TM195</td>\n      <td>33</td>\n      <td>Female</td>\n      <td>16</td>\n      <td>Partnered</td>\n      <td>3</td>\n      <td>3</td>\n      <td>46617</td>\n      <td>85</td>\n    </tr>\n    <tr>\n      <th>26</th>\n      <td>TM195</td>\n      <td>24</td>\n      <td>Female</td>\n      <td>16</td>\n      <td>Single</td>\n      <td>4</td>\n      <td>3</td>\n      <td>46617</td>\n      <td>75</td>\n    </tr>\n    <tr>\n      <th>11</th>\n      <td>TM195</td>\n      <td>22</td>\n      <td>Female</td>\n      <td>14</td>\n      <td>Partnered</td>\n      <td>3</td>\n      <td>2</td>\n      <td>35247</td>\n      <td>66</td>\n    </tr>\n    <tr>\n      <th>162</th>\n      <td>TM798</td>\n      <td>28</td>\n      <td>Female</td>\n      <td>18</td>\n      <td>Partnered</td>\n      <td>6</td>\n      <td>5</td>\n      <td>92131</td>\n      <td>180</td>\n    </tr>\n    <tr>\n      <th>29</th>\n      <td>TM195</td>\n      <td>25</td>\n      <td>Female</td>\n      <td>14</td>\n      <td>Partnered</td>\n      <td>2</td>\n      <td>2</td>\n      <td>53439</td>\n      <td>47</td>\n    </tr>\n  </tbody>\n</table>\n</div>"
     },
     "execution_count": 5,
     "metadata": {},
     "output_type": "execute_result"
    }
   ],
   "source": [
    "my_data.sample(10)"
   ],
   "metadata": {
    "collapsed": false
   }
  },
  {
   "cell_type": "code",
   "execution_count": 6,
   "outputs": [
    {
     "data": {
      "text/plain": "(180, 9)"
     },
     "execution_count": 6,
     "metadata": {},
     "output_type": "execute_result"
    }
   ],
   "source": [
    "my_data.shape"
   ],
   "metadata": {
    "collapsed": false
   }
  },
  {
   "cell_type": "code",
   "execution_count": 7,
   "outputs": [
    {
     "data": {
      "text/plain": "Product          object\nAge               int64\nGender           object\nEducation         int64\nMaritalStatus    object\nUsage             int64\nFitness           int64\nIncome            int64\nMiles             int64\ndtype: object"
     },
     "execution_count": 7,
     "metadata": {},
     "output_type": "execute_result"
    }
   ],
   "source": [
    "my_data.dtypes"
   ],
   "metadata": {
    "collapsed": false
   }
  },
  {
   "cell_type": "code",
   "execution_count": 8,
   "outputs": [
    {
     "data": {
      "text/plain": "Index(['Product', 'Age', 'Gender', 'Education', 'MaritalStatus', 'Usage',\n       'Fitness', 'Income', 'Miles'],\n      dtype='object')"
     },
     "execution_count": 8,
     "metadata": {},
     "output_type": "execute_result"
    }
   ],
   "source": [
    "my_data.columns"
   ],
   "metadata": {
    "collapsed": false
   }
  },
  {
   "cell_type": "code",
   "execution_count": 9,
   "outputs": [
    {
     "name": "stdout",
     "output_type": "stream",
     "text": [
      "<class 'pandas.core.frame.DataFrame'>\n",
      "RangeIndex: 180 entries, 0 to 179\n",
      "Data columns (total 9 columns):\n",
      " #   Column         Non-Null Count  Dtype \n",
      "---  ------         --------------  ----- \n",
      " 0   Product        180 non-null    object\n",
      " 1   Age            180 non-null    int64 \n",
      " 2   Gender         180 non-null    object\n",
      " 3   Education      180 non-null    int64 \n",
      " 4   MaritalStatus  180 non-null    object\n",
      " 5   Usage          180 non-null    int64 \n",
      " 6   Fitness        180 non-null    int64 \n",
      " 7   Income         180 non-null    int64 \n",
      " 8   Miles          180 non-null    int64 \n",
      "dtypes: int64(6), object(3)\n",
      "memory usage: 12.8+ KB\n"
     ]
    }
   ],
   "source": [
    "my_data.info()"
   ],
   "metadata": {
    "collapsed": false
   }
  },
  {
   "cell_type": "code",
   "execution_count": 10,
   "outputs": [
    {
     "data": {
      "text/plain": "Product          0\nAge              0\nGender           0\nEducation        0\nMaritalStatus    0\nUsage            0\nFitness          0\nIncome           0\nMiles            0\ndtype: int64"
     },
     "execution_count": 10,
     "metadata": {},
     "output_type": "execute_result"
    }
   ],
   "source": [
    "my_data.isnull().sum()"
   ],
   "metadata": {
    "collapsed": false
   }
  },
  {
   "cell_type": "code",
   "execution_count": 11,
   "outputs": [
    {
     "data": {
      "text/plain": "              Age   Education       Usage     Fitness         Income  \\\ncount  180.000000  180.000000  180.000000  180.000000     180.000000   \nmean    28.788889   15.572222    3.455556    3.311111   53719.577778   \nstd      6.943498    1.617055    1.084797    0.958869   16506.684226   \nmin     18.000000   12.000000    2.000000    1.000000   29562.000000   \n25%     24.000000   14.000000    3.000000    3.000000   44058.750000   \n50%     26.000000   16.000000    3.000000    3.000000   50596.500000   \n75%     33.000000   16.000000    4.000000    4.000000   58668.000000   \nmax     50.000000   21.000000    7.000000    5.000000  104581.000000   \n\n            Miles  \ncount  180.000000  \nmean   103.194444  \nstd     51.863605  \nmin     21.000000  \n25%     66.000000  \n50%     94.000000  \n75%    114.750000  \nmax    360.000000  ",
      "text/html": "<div>\n<style scoped>\n    .dataframe tbody tr th:only-of-type {\n        vertical-align: middle;\n    }\n\n    .dataframe tbody tr th {\n        vertical-align: top;\n    }\n\n    .dataframe thead th {\n        text-align: right;\n    }\n</style>\n<table border=\"1\" class=\"dataframe\">\n  <thead>\n    <tr style=\"text-align: right;\">\n      <th></th>\n      <th>Age</th>\n      <th>Education</th>\n      <th>Usage</th>\n      <th>Fitness</th>\n      <th>Income</th>\n      <th>Miles</th>\n    </tr>\n  </thead>\n  <tbody>\n    <tr>\n      <th>count</th>\n      <td>180.000000</td>\n      <td>180.000000</td>\n      <td>180.000000</td>\n      <td>180.000000</td>\n      <td>180.000000</td>\n      <td>180.000000</td>\n    </tr>\n    <tr>\n      <th>mean</th>\n      <td>28.788889</td>\n      <td>15.572222</td>\n      <td>3.455556</td>\n      <td>3.311111</td>\n      <td>53719.577778</td>\n      <td>103.194444</td>\n    </tr>\n    <tr>\n      <th>std</th>\n      <td>6.943498</td>\n      <td>1.617055</td>\n      <td>1.084797</td>\n      <td>0.958869</td>\n      <td>16506.684226</td>\n      <td>51.863605</td>\n    </tr>\n    <tr>\n      <th>min</th>\n      <td>18.000000</td>\n      <td>12.000000</td>\n      <td>2.000000</td>\n      <td>1.000000</td>\n      <td>29562.000000</td>\n      <td>21.000000</td>\n    </tr>\n    <tr>\n      <th>25%</th>\n      <td>24.000000</td>\n      <td>14.000000</td>\n      <td>3.000000</td>\n      <td>3.000000</td>\n      <td>44058.750000</td>\n      <td>66.000000</td>\n    </tr>\n    <tr>\n      <th>50%</th>\n      <td>26.000000</td>\n      <td>16.000000</td>\n      <td>3.000000</td>\n      <td>3.000000</td>\n      <td>50596.500000</td>\n      <td>94.000000</td>\n    </tr>\n    <tr>\n      <th>75%</th>\n      <td>33.000000</td>\n      <td>16.000000</td>\n      <td>4.000000</td>\n      <td>4.000000</td>\n      <td>58668.000000</td>\n      <td>114.750000</td>\n    </tr>\n    <tr>\n      <th>max</th>\n      <td>50.000000</td>\n      <td>21.000000</td>\n      <td>7.000000</td>\n      <td>5.000000</td>\n      <td>104581.000000</td>\n      <td>360.000000</td>\n    </tr>\n  </tbody>\n</table>\n</div>"
     },
     "execution_count": 11,
     "metadata": {},
     "output_type": "execute_result"
    }
   ],
   "source": [
    "my_data.describe()"
   ],
   "metadata": {
    "collapsed": false
   }
  },
  {
   "cell_type": "code",
   "execution_count": 12,
   "outputs": [
    {
     "data": {
      "text/plain": "       Product         Age Gender   Education MaritalStatus       Usage  \\\ncount      180  180.000000    180  180.000000           180  180.000000   \nunique       3         NaN      2         NaN             2         NaN   \ntop      TM195         NaN   Male         NaN     Partnered         NaN   \nfreq        80         NaN    104         NaN           107         NaN   \nmean       NaN   28.788889    NaN   15.572222           NaN    3.455556   \nstd        NaN    6.943498    NaN    1.617055           NaN    1.084797   \nmin        NaN   18.000000    NaN   12.000000           NaN    2.000000   \n25%        NaN   24.000000    NaN   14.000000           NaN    3.000000   \n50%        NaN   26.000000    NaN   16.000000           NaN    3.000000   \n75%        NaN   33.000000    NaN   16.000000           NaN    4.000000   \nmax        NaN   50.000000    NaN   21.000000           NaN    7.000000   \n\n           Fitness         Income       Miles  \ncount   180.000000     180.000000  180.000000  \nunique         NaN            NaN         NaN  \ntop            NaN            NaN         NaN  \nfreq           NaN            NaN         NaN  \nmean      3.311111   53719.577778  103.194444  \nstd       0.958869   16506.684226   51.863605  \nmin       1.000000   29562.000000   21.000000  \n25%       3.000000   44058.750000   66.000000  \n50%       3.000000   50596.500000   94.000000  \n75%       4.000000   58668.000000  114.750000  \nmax       5.000000  104581.000000  360.000000  ",
      "text/html": "<div>\n<style scoped>\n    .dataframe tbody tr th:only-of-type {\n        vertical-align: middle;\n    }\n\n    .dataframe tbody tr th {\n        vertical-align: top;\n    }\n\n    .dataframe thead th {\n        text-align: right;\n    }\n</style>\n<table border=\"1\" class=\"dataframe\">\n  <thead>\n    <tr style=\"text-align: right;\">\n      <th></th>\n      <th>Product</th>\n      <th>Age</th>\n      <th>Gender</th>\n      <th>Education</th>\n      <th>MaritalStatus</th>\n      <th>Usage</th>\n      <th>Fitness</th>\n      <th>Income</th>\n      <th>Miles</th>\n    </tr>\n  </thead>\n  <tbody>\n    <tr>\n      <th>count</th>\n      <td>180</td>\n      <td>180.000000</td>\n      <td>180</td>\n      <td>180.000000</td>\n      <td>180</td>\n      <td>180.000000</td>\n      <td>180.000000</td>\n      <td>180.000000</td>\n      <td>180.000000</td>\n    </tr>\n    <tr>\n      <th>unique</th>\n      <td>3</td>\n      <td>NaN</td>\n      <td>2</td>\n      <td>NaN</td>\n      <td>2</td>\n      <td>NaN</td>\n      <td>NaN</td>\n      <td>NaN</td>\n      <td>NaN</td>\n    </tr>\n    <tr>\n      <th>top</th>\n      <td>TM195</td>\n      <td>NaN</td>\n      <td>Male</td>\n      <td>NaN</td>\n      <td>Partnered</td>\n      <td>NaN</td>\n      <td>NaN</td>\n      <td>NaN</td>\n      <td>NaN</td>\n    </tr>\n    <tr>\n      <th>freq</th>\n      <td>80</td>\n      <td>NaN</td>\n      <td>104</td>\n      <td>NaN</td>\n      <td>107</td>\n      <td>NaN</td>\n      <td>NaN</td>\n      <td>NaN</td>\n      <td>NaN</td>\n    </tr>\n    <tr>\n      <th>mean</th>\n      <td>NaN</td>\n      <td>28.788889</td>\n      <td>NaN</td>\n      <td>15.572222</td>\n      <td>NaN</td>\n      <td>3.455556</td>\n      <td>3.311111</td>\n      <td>53719.577778</td>\n      <td>103.194444</td>\n    </tr>\n    <tr>\n      <th>std</th>\n      <td>NaN</td>\n      <td>6.943498</td>\n      <td>NaN</td>\n      <td>1.617055</td>\n      <td>NaN</td>\n      <td>1.084797</td>\n      <td>0.958869</td>\n      <td>16506.684226</td>\n      <td>51.863605</td>\n    </tr>\n    <tr>\n      <th>min</th>\n      <td>NaN</td>\n      <td>18.000000</td>\n      <td>NaN</td>\n      <td>12.000000</td>\n      <td>NaN</td>\n      <td>2.000000</td>\n      <td>1.000000</td>\n      <td>29562.000000</td>\n      <td>21.000000</td>\n    </tr>\n    <tr>\n      <th>25%</th>\n      <td>NaN</td>\n      <td>24.000000</td>\n      <td>NaN</td>\n      <td>14.000000</td>\n      <td>NaN</td>\n      <td>3.000000</td>\n      <td>3.000000</td>\n      <td>44058.750000</td>\n      <td>66.000000</td>\n    </tr>\n    <tr>\n      <th>50%</th>\n      <td>NaN</td>\n      <td>26.000000</td>\n      <td>NaN</td>\n      <td>16.000000</td>\n      <td>NaN</td>\n      <td>3.000000</td>\n      <td>3.000000</td>\n      <td>50596.500000</td>\n      <td>94.000000</td>\n    </tr>\n    <tr>\n      <th>75%</th>\n      <td>NaN</td>\n      <td>33.000000</td>\n      <td>NaN</td>\n      <td>16.000000</td>\n      <td>NaN</td>\n      <td>4.000000</td>\n      <td>4.000000</td>\n      <td>58668.000000</td>\n      <td>114.750000</td>\n    </tr>\n    <tr>\n      <th>max</th>\n      <td>NaN</td>\n      <td>50.000000</td>\n      <td>NaN</td>\n      <td>21.000000</td>\n      <td>NaN</td>\n      <td>7.000000</td>\n      <td>5.000000</td>\n      <td>104581.000000</td>\n      <td>360.000000</td>\n    </tr>\n  </tbody>\n</table>\n</div>"
     },
     "execution_count": 12,
     "metadata": {},
     "output_type": "execute_result"
    }
   ],
   "source": [
    "my_data.describe(include=\"all\")"
   ],
   "metadata": {
    "collapsed": false
   }
  },
  {
   "cell_type": "code",
   "execution_count": 13,
   "outputs": [
    {
     "data": {
      "text/plain": "<AxesSubplot:xlabel='Product', ylabel='count'>"
     },
     "execution_count": 13,
     "metadata": {},
     "output_type": "execute_result"
    },
    {
     "data": {
      "text/plain": "<Figure size 640x480 with 1 Axes>",
      "image/png": "[encoded data removed]"
     },
     "metadata": {},
     "output_type": "display_data"
    }
   ],
   "source": [
    "sns.countplot(x = 'Product', data = my_data)"
   ],
   "metadata": {
    "collapsed": false
   }
  },
  {
   "cell_type": "code",
   "execution_count": 14,
   "outputs": [
    {
     "data": {
      "text/plain": "<AxesSubplot:xlabel='Gender', ylabel='count'>"
     },
     "execution_count": 14,
     "metadata": {},
     "output_type": "execute_result"
    },
    {
     "data": {
      "text/plain": "<Figure size 640x480 with 1 Axes>",
      "image/png": "[encoded data removed]"
     },
     "metadata": {},
     "output_type": "display_data"
    }
   ],
   "source": [
    "sns.countplot(x = 'Gender', data = my_data)"
   ],
   "metadata": {
    "collapsed": false
   }
  },
  {
   "cell_type": "code",
   "execution_count": null,
   "outputs": [],
   "source": [
    "sns.countplot(x = \"MaritalStatus\", data = my_data)"
   ],
   "metadata": {
    "collapsed": false
   }
  },
  {
   "cell_type": "code",
   "execution_count": 15,
   "outputs": [
    {
     "data": {
      "text/plain": "<AxesSubplot:xlabel='Product', ylabel='count'>"
     },
     "execution_count": 15,
     "metadata": {},
     "output_type": "execute_result"
    },
    {
     "data": {
      "text/plain": "<Figure size 640x480 with 1 Axes>",
      "image/png": "[encoded data removed]"
     },
     "metadata": {},
     "output_type": "display_data"
    }
   ],
   "source": [
    "sns.countplot(x = 'Product',hue='Gender', data = my_data)"
   ],
   "metadata": {
    "collapsed": false
   }
  },
  {
   "cell_type": "code",
   "execution_count": 16,
   "outputs": [
    {
     "data": {
      "text/plain": "<AxesSubplot:xlabel='Product', ylabel='count'>"
     },
     "execution_count": 16,
     "metadata": {},
     "output_type": "execute_result"
    },
    {
     "data": {
      "text/plain": "<Figure size 640x480 with 1 Axes>",
      "image/png": "[encoded data removed]"
     },
     "metadata": {},
     "output_type": "display_data"
    }
   ],
   "source": [
    "sns.countplot(x = 'Product',hue='MaritalStatus', data = my_data)"
   ],
   "metadata": {
    "collapsed": false
   }
  },
  {
   "cell_type": "code",
   "execution_count": 17,
   "outputs": [
    {
     "data": {
      "text/plain": "<AxesSubplot:xlabel='Product', ylabel='Age'>"
     },
     "execution_count": 17,
     "metadata": {},
     "output_type": "execute_result"
    },
    {
     "data": {
      "text/plain": "<Figure size 640x480 with 1 Axes>",
      "image/png": "[encoded data removed]"
     },
     "metadata": {},
     "output_type": "display_data"
    }
   ],
   "source": [
    "sns.boxplot(x = 'Product',y = 'Age',data = my_data)"
   ],
   "metadata": {
    "collapsed": false
   }
  },
  {
   "cell_type": "code",
   "execution_count": null,
   "outputs": [],
   "source": [
    "pd.crosstab(my_data['Product'],my_data['Gender'])"
   ],
   "metadata": {
    "collapsed": false
   }
  },
  {
   "cell_type": "code",
   "execution_count": null,
   "outputs": [],
   "source": [
    "corr = my_data.corr()\n",
    "corr"
   ],
   "metadata": {
    "collapsed": false
   }
  },
  {
   "cell_type": "code",
   "execution_count": null,
   "outputs": [],
   "source": [
    "sns.heatmap(corr,annot=True,cmap='YlGnBu')\n",
    "plt.show()"
   ],
   "metadata": {
    "collapsed": false
   }
  },
  {
   "cell_type": "code",
   "execution_count": null,
   "outputs": [],
   "source": [
    "my_data.hist(figsize=(10,20))\n",
    "plt.show()"
   ],
   "metadata": {
    "collapsed": false
   }
  },
  {
   "cell_type": "code",
   "execution_count": null,
   "outputs": [],
   "source": [
    "sns.pairplot(my_data,diag_kind='kde')\n",
    "plt.show()"
   ],
   "metadata": {
    "collapsed": false
   }
  },
  {
   "cell_type": "markdown",
   "source": [
    "### Bank Personal Loan"
   ],
   "metadata": {
    "collapsed": false
   }
  },
  {
   "cell_type": "code",
   "execution_count": null,
   "outputs": [],
   "source": [
    "my_data = pd.read_csv(\"Bank_Personal_Loan_Modelling.csv\")"
   ],
   "metadata": {
    "collapsed": false
   }
  },
  {
   "cell_type": "code",
   "execution_count": null,
   "outputs": [],
   "source": [
    "my_data.info()\n",
    "my_data.shape"
   ],
   "metadata": {
    "collapsed": false
   }
  },
  {
   "cell_type": "code",
   "execution_count": null,
   "outputs": [],
   "source": [
    "sns.countplot(x = 'Age', hue = 'Experience', data=my_data)"
   ],
   "metadata": {
    "collapsed": false
   }
  },
  {
   "cell_type": "code",
   "execution_count": null,
   "outputs": [],
   "source": [
    "my_data.describe(include=\"all\")"
   ],
   "metadata": {
    "collapsed": false
   }
  },
  {
   "cell_type": "code",
   "execution_count": null,
   "outputs": [],
   "source": [
    "sns.countplot(x = 'Age', data=my_data)"
   ],
   "metadata": {
    "collapsed": false
   }
  },
  {
   "cell_type": "code",
   "execution_count": null,
   "outputs": [],
   "source": [
    "sns.countplot(x = 'Experience', data=my_data)"
   ],
   "metadata": {
    "collapsed": false
   }
  },
  {
   "cell_type": "markdown",
   "source": [
    "### Check for duplicates"
   ],
   "metadata": {
    "collapsed": false
   }
  },
  {
   "cell_type": "code",
   "execution_count": 99,
   "outputs": [],
   "source": [
    "df = pd.read_csv(\"hotel_bookings.csv\")"
   ],
   "metadata": {
    "collapsed": false
   }
  },
  {
   "cell_type": "code",
   "execution_count": 62,
   "outputs": [
    {
     "name": "stdout",
     "output_type": "stream",
     "text": [
      "31994\n"
     ]
    }
   ],
   "source": [
    "duplicate=df.duplicated( )\n",
    "print (duplicate.sum())"
   ],
   "metadata": {
    "collapsed": false
   }
  },
  {
   "cell_type": "code",
   "execution_count": 63,
   "outputs": [],
   "source": [
    "df.drop_duplicates(inplace=True)"
   ],
   "metadata": {
    "collapsed": false
   }
  },
  {
   "cell_type": "code",
   "execution_count": 65,
   "outputs": [
    {
     "data": {
      "text/plain": "0"
     },
     "execution_count": 65,
     "metadata": {},
     "output_type": "execute_result"
    }
   ],
   "source": [
    "df.duplicated().sum()"
   ],
   "metadata": {
    "collapsed": false
   }
  },
  {
   "cell_type": "code",
   "execution_count": 88,
   "outputs": [
    {
     "data": {
      "text/plain": "(119390, 32)"
     },
     "execution_count": 88,
     "metadata": {},
     "output_type": "execute_result"
    }
   ],
   "source": [
    "df.shape"
   ],
   "metadata": {
    "collapsed": false
   }
  },
  {
   "cell_type": "code",
   "execution_count": 67,
   "outputs": [
    {
     "data": {
      "text/plain": "<Figure size 640x480 with 1 Axes>",
      "image/png": "[encoded data removed]"
     },
     "metadata": {},
     "output_type": "display_data"
    }
   ],
   "source": [
    "df.boxplot(column=['lead_time'])\n",
    "plt.show()"
   ],
   "metadata": {
    "collapsed": false
   }
  },
  {
   "cell_type": "code",
   "execution_count": 68,
   "outputs": [],
   "source": [
    "def remove_outlier(col):\n",
    "    sorted(col)\n",
    "    Q1,Q3=col.quantile([0.25,0.75])\n",
    "    IQR=Q3-Q1\n",
    "    lower_range=Q1-1.5*IQR\n",
    "    upper_range=Q3-1.5*IQR\n",
    "    return lower_range,upper_range"
   ],
   "metadata": {
    "collapsed": false
   }
  },
  {
   "cell_type": "code",
   "execution_count": 69,
   "outputs": [],
   "source": [
    "low_leadtime,high_leadtime=remove_outlier(df[\"lead_time\"])\n",
    "df[\"lead_time\"]=np.where(df[\"lead_time\"]>high_leadtime,high_leadtime,df[\"lead_time\"])\n",
    "df[\"lead_time\"]=np.where(df[\"lead_time\"]<low_leadtime,low_leadtime,df[\"lead_time\"])"
   ],
   "metadata": {
    "collapsed": false
   }
  },
  {
   "cell_type": "code",
   "execution_count": 70,
   "outputs": [
    {
     "data": {
      "text/plain": "<Figure size 640x480 with 1 Axes>",
      "image/png": "[encoded data removed]"
     },
     "metadata": {},
     "output_type": "display_data"
    }
   ],
   "source": [
    "df.boxplot(column=[\"lead_time\"])\n",
    "plt.show()"
   ],
   "metadata": {
    "collapsed": false
   }
  },
  {
   "cell_type": "markdown",
   "source": [
    "### One Hot Encoding"
   ],
   "metadata": {
    "collapsed": false
   }
  },
  {
   "cell_type": "code",
   "execution_count": 100,
   "outputs": [],
   "source": [
    "df = pd.get_dummies(df,columns=['reservation_status','hotel','arrival_date_month','reservation_status_date','customer_type','deposit_type','company'])"
   ],
   "metadata": {
    "collapsed": false
   }
  },
  {
   "cell_type": "code",
   "execution_count": 101,
   "outputs": [
    {
     "data": {
      "text/plain": "   is_canceled  lead_time  arrival_date_year  arrival_date_week_number  \\\n0            0        342               2015                        27   \n1            0        737               2015                        27   \n2            0          7               2015                        27   \n3            0         13               2015                        27   \n4            0         14               2015                        27   \n\n   arrival_date_day_of_month  stays_in_weekend_nights  stays_in_week_nights  \\\n0                          1                        0                     0   \n1                          1                        0                     0   \n2                          1                        0                     1   \n3                          1                        0                     1   \n4                          1                        0                     2   \n\n   adults  children  babies  ... company_521.0 company_523.0 company_525.0  \\\n0       2       0.0       0  ...             0             0             0   \n1       2       0.0       0  ...             0             0             0   \n2       1       0.0       0  ...             0             0             0   \n3       1       0.0       0  ...             0             0             0   \n4       2       0.0       0  ...             0             0             0   \n\n  company_528.0  company_530.0  company_531.0  company_534.0 company_539.0  \\\n0             0              0              0              0             0   \n1             0              0              0              0             0   \n2             0              0              0              0             0   \n3             0              0              0              0             0   \n4             0              0              0              0             0   \n\n  company_541.0  company_543.0  \n0             0              0  \n1             0              0  \n2             0              0  \n3             0              0  \n4             0              0  \n\n[5 rows x 1327 columns]",
      "text/html": "<div>\n<style scoped>\n    .dataframe tbody tr th:only-of-type {\n        vertical-align: middle;\n    }\n\n    .dataframe tbody tr th {\n        vertical-align: top;\n    }\n\n    .dataframe thead th {\n        text-align: right;\n    }\n</style>\n<table border=\"1\" class=\"dataframe\">\n  <thead>\n    <tr style=\"text-align: right;\">\n      <th></th>\n      <th>is_canceled</th>\n      <th>lead_time</th>\n      <th>arrival_date_year</th>\n      <th>arrival_date_week_number</th>\n      <th>arrival_date_day_of_month</th>\n      <th>stays_in_weekend_nights</th>\n      <th>stays_in_week_nights</th>\n      <th>adults</th>\n      <th>children</th>\n      <th>babies</th>\n      <th>...</th>\n      <th>company_521.0</th>\n      <th>company_523.0</th>\n      <th>company_525.0</th>\n      <th>company_528.0</th>\n      <th>company_530.0</th>\n      <th>company_531.0</th>\n      <th>company_534.0</th>\n      <th>company_539.0</th>\n      <th>company_541.0</th>\n      <th>company_543.0</th>\n    </tr>\n  </thead>\n  <tbody>\n    <tr>\n      <th>0</th>\n      <td>0</td>\n      <td>342</td>\n      <td>2015</td>\n      <td>27</td>\n      <td>1</td>\n      <td>0</td>\n      <td>0</td>\n      <td>2</td>\n      <td>0.0</td>\n      <td>0</td>\n      <td>...</td>\n      <td>0</td>\n      <td>0</td>\n      <td>0</td>\n      <td>0</td>\n      <td>0</td>\n      <td>0</td>\n      <td>0</td>\n      <td>0</td>\n      <td>0</td>\n      <td>0</td>\n    </tr>\n    <tr>\n      <th>1</th>\n      <td>0</td>\n      <td>737</td>\n      <td>2015</td>\n      <td>27</td>\n      <td>1</td>\n      <td>0</td>\n      <td>0</td>\n      <td>2</td>\n      <td>0.0</td>\n      <td>0</td>\n      <td>...</td>\n      <td>0</td>\n      <td>0</td>\n      <td>0</td>\n      <td>0</td>\n      <td>0</td>\n      <td>0</td>\n      <td>0</td>\n      <td>0</td>\n      <td>0</td>\n      <td>0</td>\n    </tr>\n    <tr>\n      <th>2</th>\n      <td>0</td>\n      <td>7</td>\n      <td>2015</td>\n      <td>27</td>\n      <td>1</td>\n      <td>0</td>\n      <td>1</td>\n      <td>1</td>\n      <td>0.0</td>\n      <td>0</td>\n      <td>...</td>\n      <td>0</td>\n      <td>0</td>\n      <td>0</td>\n      <td>0</td>\n      <td>0</td>\n      <td>0</td>\n      <td>0</td>\n      <td>0</td>\n      <td>0</td>\n      <td>0</td>\n    </tr>\n    <tr>\n      <th>3</th>\n      <td>0</td>\n      <td>13</td>\n      <td>2015</td>\n      <td>27</td>\n      <td>1</td>\n      <td>0</td>\n      <td>1</td>\n      <td>1</td>\n      <td>0.0</td>\n      <td>0</td>\n      <td>...</td>\n      <td>0</td>\n      <td>0</td>\n      <td>0</td>\n      <td>0</td>\n      <td>0</td>\n      <td>0</td>\n      <td>0</td>\n      <td>0</td>\n      <td>0</td>\n      <td>0</td>\n    </tr>\n    <tr>\n      <th>4</th>\n      <td>0</td>\n      <td>14</td>\n      <td>2015</td>\n      <td>27</td>\n      <td>1</td>\n      <td>0</td>\n      <td>2</td>\n      <td>2</td>\n      <td>0.0</td>\n      <td>0</td>\n      <td>...</td>\n      <td>0</td>\n      <td>0</td>\n      <td>0</td>\n      <td>0</td>\n      <td>0</td>\n      <td>0</td>\n      <td>0</td>\n      <td>0</td>\n      <td>0</td>\n      <td>0</td>\n    </tr>\n  </tbody>\n</table>\n<p>5 rows × 1327 columns</p>\n</div>"
     },
     "execution_count": 101,
     "metadata": {},
     "output_type": "execute_result"
    }
   ],
   "source": [
    "df.head()"
   ],
   "metadata": {
    "collapsed": false
   }
  },
  {
   "cell_type": "code",
   "execution_count": 102,
   "outputs": [
    {
     "data": {
      "text/plain": "(119390, 1327)"
     },
     "execution_count": 102,
     "metadata": {},
     "output_type": "execute_result"
    }
   ],
   "source": [
    "df.shape"
   ],
   "metadata": {
    "collapsed": false
   }
  },
  {
   "cell_type": "code",
   "execution_count": 103,
   "outputs": [
    {
     "data": {
      "text/plain": "        is_canceled  lead_time  arrival_date_year  arrival_date_week_number  \\\n0                 0        342               2015                        27   \n1                 0        737               2015                        27   \n2                 0          7               2015                        27   \n3                 0         13               2015                        27   \n4                 0         14               2015                        27   \n...             ...        ...                ...                       ...   \n119385            0         23               2017                        35   \n119386            0        102               2017                        35   \n119387            0         34               2017                        35   \n119388            0        109               2017                        35   \n119389            0        205               2017                        35   \n\n        arrival_date_day_of_month  stays_in_weekend_nights  \\\n0                               1                        0   \n1                               1                        0   \n2                               1                        0   \n3                               1                        0   \n4                               1                        0   \n...                           ...                      ...   \n119385                         30                        2   \n119386                         31                        2   \n119387                         31                        2   \n119388                         31                        2   \n119389                         29                        2   \n\n        stays_in_week_nights  adults  children  babies  ... company_521.0  \\\n0                          0       2       0.0       0  ...             0   \n1                          0       2       0.0       0  ...             0   \n2                          1       1       0.0       0  ...             0   \n3                          1       1       0.0       0  ...             0   \n4                          2       2       0.0       0  ...             0   \n...                      ...     ...       ...     ...  ...           ...   \n119385                     5       2       0.0       0  ...             0   \n119386                     5       3       0.0       0  ...             0   \n119387                     5       2       0.0       0  ...             0   \n119388                     5       2       0.0       0  ...             0   \n119389                     7       2       0.0       0  ...             0   \n\n       company_523.0 company_525.0 company_528.0  company_530.0  \\\n0                  0             0             0              0   \n1                  0             0             0              0   \n2                  0             0             0              0   \n3                  0             0             0              0   \n4                  0             0             0              0   \n...              ...           ...           ...            ...   \n119385             0             0             0              0   \n119386             0             0             0              0   \n119387             0             0             0              0   \n119388             0             0             0              0   \n119389             0             0             0              0   \n\n        company_531.0  company_534.0 company_539.0 company_541.0  \\\n0                   0              0             0             0   \n1                   0              0             0             0   \n2                   0              0             0             0   \n3                   0              0             0             0   \n4                   0              0             0             0   \n...               ...            ...           ...           ...   \n119385              0              0             0             0   \n119386              0              0             0             0   \n119387              0              0             0             0   \n119388              0              0             0             0   \n119389              0              0             0             0   \n\n        company_543.0  \n0                   0  \n1                   0  \n2                   0  \n3                   0  \n4                   0  \n...               ...  \n119385              0  \n119386              0  \n119387              0  \n119388              0  \n119389              0  \n\n[119390 rows x 1327 columns]",
      "text/html": "<div>\n<style scoped>\n    .dataframe tbody tr th:only-of-type {\n        vertical-align: middle;\n    }\n\n    .dataframe tbody tr th {\n        vertical-align: top;\n    }\n\n    .dataframe thead th {\n        text-align: right;\n    }\n</style>\n<table border=\"1\" class=\"dataframe\">\n  <thead>\n    <tr style=\"text-align: right;\">\n      <th></th>\n      <th>is_canceled</th>\n      <th>lead_time</th>\n      <th>arrival_date_year</th>\n      <th>arrival_date_week_number</th>\n      <th>arrival_date_day_of_month</th>\n      <th>stays_in_weekend_nights</th>\n      <th>stays_in_week_nights</th>\n      <th>adults</th>\n      <th>children</th>\n      <th>babies</th>\n      <th>...</th>\n      <th>company_521.0</th>\n      <th>company_523.0</th>\n      <th>company_525.0</th>\n      <th>company_528.0</th>\n      <th>company_530.0</th>\n      <th>company_531.0</th>\n      <th>company_534.0</th>\n      <th>company_539.0</th>\n      <th>company_541.0</th>\n      <th>company_543.0</th>\n    </tr>\n  </thead>\n  <tbody>\n    <tr>\n      <th>0</th>\n      <td>0</td>\n      <td>342</td>\n      <td>2015</td>\n      <td>27</td>\n      <td>1</td>\n      <td>0</td>\n      <td>0</td>\n      <td>2</td>\n      <td>0.0</td>\n      <td>0</td>\n      <td>...</td>\n      <td>0</td>\n      <td>0</td>\n      <td>0</td>\n      <td>0</td>\n      <td>0</td>\n      <td>0</td>\n      <td>0</td>\n      <td>0</td>\n      <td>0</td>\n      <td>0</td>\n    </tr>\n    <tr>\n      <th>1</th>\n      <td>0</td>\n      <td>737</td>\n      <td>2015</td>\n      <td>27</td>\n      <td>1</td>\n      <td>0</td>\n      <td>0</td>\n      <td>2</td>\n      <td>0.0</td>\n      <td>0</td>\n      <td>...</td>\n      <td>0</td>\n      <td>0</td>\n      <td>0</td>\n      <td>0</td>\n      <td>0</td>\n      <td>0</td>\n      <td>0</td>\n      <td>0</td>\n      <td>0</td>\n      <td>0</td>\n    </tr>\n    <tr>\n      <th>2</th>\n      <td>0</td>\n      <td>7</td>\n      <td>2015</td>\n      <td>27</td>\n      <td>1</td>\n      <td>0</td>\n      <td>1</td>\n      <td>1</td>\n      <td>0.0</td>\n      <td>0</td>\n      <td>...</td>\n      <td>0</td>\n      <td>0</td>\n      <td>0</td>\n      <td>0</td>\n      <td>0</td>\n      <td>0</td>\n      <td>0</td>\n      <td>0</td>\n      <td>0</td>\n      <td>0</td>\n    </tr>\n    <tr>\n      <th>3</th>\n      <td>0</td>\n      <td>13</td>\n      <td>2015</td>\n      <td>27</td>\n      <td>1</td>\n      <td>0</td>\n      <td>1</td>\n      <td>1</td>\n      <td>0.0</td>\n      <td>0</td>\n      <td>...</td>\n      <td>0</td>\n      <td>0</td>\n      <td>0</td>\n      <td>0</td>\n      <td>0</td>\n      <td>0</td>\n      <td>0</td>\n      <td>0</td>\n      <td>0</td>\n      <td>0</td>\n    </tr>\n    <tr>\n      <th>4</th>\n      <td>0</td>\n      <td>14</td>\n      <td>2015</td>\n      <td>27</td>\n      <td>1</td>\n      <td>0</td>\n      <td>2</td>\n      <td>2</td>\n      <td>0.0</td>\n      <td>0</td>\n      <td>...</td>\n      <td>0</td>\n      <td>0</td>\n      <td>0</td>\n      <td>0</td>\n      <td>0</td>\n      <td>0</td>\n      <td>0</td>\n      <td>0</td>\n      <td>0</td>\n      <td>0</td>\n    </tr>\n    <tr>\n      <th>...</th>\n      <td>...</td>\n      <td>...</td>\n      <td>...</td>\n      <td>...</td>\n      <td>...</td>\n      <td>...</td>\n      <td>...</td>\n      <td>...</td>\n      <td>...</td>\n      <td>...</td>\n      <td>...</td>\n      <td>...</td>\n      <td>...</td>\n      <td>...</td>\n      <td>...</td>\n      <td>...</td>\n      <td>...</td>\n      <td>...</td>\n      <td>...</td>\n      <td>...</td>\n      <td>...</td>\n    </tr>\n    <tr>\n      <th>119385</th>\n      <td>0</td>\n      <td>23</td>\n      <td>2017</td>\n      <td>35</td>\n      <td>30</td>\n      <td>2</td>\n      <td>5</td>\n      <td>2</td>\n      <td>0.0</td>\n      <td>0</td>\n      <td>...</td>\n      <td>0</td>\n      <td>0</td>\n      <td>0</td>\n      <td>0</td>\n      <td>0</td>\n      <td>0</td>\n      <td>0</td>\n      <td>0</td>\n      <td>0</td>\n      <td>0</td>\n    </tr>\n    <tr>\n      <th>119386</th>\n      <td>0</td>\n      <td>102</td>\n      <td>2017</td>\n      <td>35</td>\n      <td>31</td>\n      <td>2</td>\n      <td>5</td>\n      <td>3</td>\n      <td>0.0</td>\n      <td>0</td>\n      <td>...</td>\n      <td>0</td>\n      <td>0</td>\n      <td>0</td>\n      <td>0</td>\n      <td>0</td>\n      <td>0</td>\n      <td>0</td>\n      <td>0</td>\n      <td>0</td>\n      <td>0</td>\n    </tr>\n    <tr>\n      <th>119387</th>\n      <td>0</td>\n      <td>34</td>\n      <td>2017</td>\n      <td>35</td>\n      <td>31</td>\n      <td>2</td>\n      <td>5</td>\n      <td>2</td>\n      <td>0.0</td>\n      <td>0</td>\n      <td>...</td>\n      <td>0</td>\n      <td>0</td>\n      <td>0</td>\n      <td>0</td>\n      <td>0</td>\n      <td>0</td>\n      <td>0</td>\n      <td>0</td>\n      <td>0</td>\n      <td>0</td>\n    </tr>\n    <tr>\n      <th>119388</th>\n      <td>0</td>\n      <td>109</td>\n      <td>2017</td>\n      <td>35</td>\n      <td>31</td>\n      <td>2</td>\n      <td>5</td>\n      <td>2</td>\n      <td>0.0</td>\n      <td>0</td>\n      <td>...</td>\n      <td>0</td>\n      <td>0</td>\n      <td>0</td>\n      <td>0</td>\n      <td>0</td>\n      <td>0</td>\n      <td>0</td>\n      <td>0</td>\n      <td>0</td>\n      <td>0</td>\n    </tr>\n    <tr>\n      <th>119389</th>\n      <td>0</td>\n      <td>205</td>\n      <td>2017</td>\n      <td>35</td>\n      <td>29</td>\n      <td>2</td>\n      <td>7</td>\n      <td>2</td>\n      <td>0.0</td>\n      <td>0</td>\n      <td>...</td>\n      <td>0</td>\n      <td>0</td>\n      <td>0</td>\n      <td>0</td>\n      <td>0</td>\n      <td>0</td>\n      <td>0</td>\n      <td>0</td>\n      <td>0</td>\n      <td>0</td>\n    </tr>\n  </tbody>\n</table>\n<p>119390 rows × 1327 columns</p>\n</div>"
     },
     "execution_count": 103,
     "metadata": {},
     "output_type": "execute_result"
    }
   ],
   "source": [
    "df"
   ],
   "metadata": {
    "collapsed": false
   }
  },
  {
   "cell_type": "markdown",
   "source": [
    "### Diabetes"
   ],
   "metadata": {
    "collapsed": false
   }
  },
  {
   "cell_type": "code",
   "execution_count": 7,
   "outputs": [
    {
     "data": {
      "text/plain": "Preg       int64\nPlas       int64\nPres       int64\nskin       int64\ntest       int64\nmass     float64\npedi     float64\nage        int64\nclass      int64\ndtype: object"
     },
     "execution_count": 7,
     "metadata": {},
     "output_type": "execute_result"
    }
   ],
   "source": [
    "df = pd.read_csv(\"pima-indians-diabetes-2.csv\")\n",
    "df.dtypes"
   ],
   "metadata": {
    "collapsed": false
   }
  },
  {
   "cell_type": "code",
   "execution_count": 8,
   "outputs": [
    {
     "data": {
      "text/plain": "Preg     0\nPlas     0\nPres     0\nskin     0\ntest     0\nmass     0\npedi     0\nage      0\nclass    0\ndtype: int64"
     },
     "execution_count": 8,
     "metadata": {},
     "output_type": "execute_result"
    }
   ],
   "source": [
    "missing_values_count = df.isnull().sum()\n",
    "missing_values_count"
   ],
   "metadata": {
    "collapsed": false
   }
  },
  {
   "cell_type": "code",
   "execution_count": 9,
   "outputs": [
    {
     "data": {
      "text/plain": "     Preg  Plas  Pres  skin  test  mass   pedi  age  class\n0       6   148    72    35     0  33.6  0.627   50      1\n1       1    85    66    29     0  26.6  0.351   31      0\n2       8   183    64     0     0  23.3  0.672   32      1\n3       1    89    66    23    94  28.1  0.167   21      0\n4       0   137    40    35   168  43.1  2.288   33      1\n..    ...   ...   ...   ...   ...   ...    ...  ...    ...\n763    10   101    76    48   180  32.9  0.171   63      0\n764     2   122    70    27     0  36.8  0.340   27      0\n765     5   121    72    23   112  26.2  0.245   30      0\n766     1   126    60     0     0  30.1  0.349   47      1\n767     1    93    70    31     0  30.4  0.315   23      0\n\n[768 rows x 9 columns]",
      "text/html": "<div>\n<style scoped>\n    .dataframe tbody tr th:only-of-type {\n        vertical-align: middle;\n    }\n\n    .dataframe tbody tr th {\n        vertical-align: top;\n    }\n\n    .dataframe thead th {\n        text-align: right;\n    }\n</style>\n<table border=\"1\" class=\"dataframe\">\n  <thead>\n    <tr style=\"text-align: right;\">\n      <th></th>\n      <th>Preg</th>\n      <th>Plas</th>\n      <th>Pres</th>\n      <th>skin</th>\n      <th>test</th>\n      <th>mass</th>\n      <th>pedi</th>\n      <th>age</th>\n      <th>class</th>\n    </tr>\n  </thead>\n  <tbody>\n    <tr>\n      <th>0</th>\n      <td>6</td>\n      <td>148</td>\n      <td>72</td>\n      <td>35</td>\n      <td>0</td>\n      <td>33.6</td>\n      <td>0.627</td>\n      <td>50</td>\n      <td>1</td>\n    </tr>\n    <tr>\n      <th>1</th>\n      <td>1</td>\n      <td>85</td>\n      <td>66</td>\n      <td>29</td>\n      <td>0</td>\n      <td>26.6</td>\n      <td>0.351</td>\n      <td>31</td>\n      <td>0</td>\n    </tr>\n    <tr>\n      <th>2</th>\n      <td>8</td>\n      <td>183</td>\n      <td>64</td>\n      <td>0</td>\n      <td>0</td>\n      <td>23.3</td>\n      <td>0.672</td>\n      <td>32</td>\n      <td>1</td>\n    </tr>\n    <tr>\n      <th>3</th>\n      <td>1</td>\n      <td>89</td>\n      <td>66</td>\n      <td>23</td>\n      <td>94</td>\n      <td>28.1</td>\n      <td>0.167</td>\n      <td>21</td>\n      <td>0</td>\n    </tr>\n    <tr>\n      <th>4</th>\n      <td>0</td>\n      <td>137</td>\n      <td>40</td>\n      <td>35</td>\n      <td>168</td>\n      <td>43.1</td>\n      <td>2.288</td>\n      <td>33</td>\n      <td>1</td>\n    </tr>\n    <tr>\n      <th>...</th>\n      <td>...</td>\n      <td>...</td>\n      <td>...</td>\n      <td>...</td>\n      <td>...</td>\n      <td>...</td>\n      <td>...</td>\n      <td>...</td>\n      <td>...</td>\n    </tr>\n    <tr>\n      <th>763</th>\n      <td>10</td>\n      <td>101</td>\n      <td>76</td>\n      <td>48</td>\n      <td>180</td>\n      <td>32.9</td>\n      <td>0.171</td>\n      <td>63</td>\n      <td>0</td>\n    </tr>\n    <tr>\n      <th>764</th>\n      <td>2</td>\n      <td>122</td>\n      <td>70</td>\n      <td>27</td>\n      <td>0</td>\n      <td>36.8</td>\n      <td>0.340</td>\n      <td>27</td>\n      <td>0</td>\n    </tr>\n    <tr>\n      <th>765</th>\n      <td>5</td>\n      <td>121</td>\n      <td>72</td>\n      <td>23</td>\n      <td>112</td>\n      <td>26.2</td>\n      <td>0.245</td>\n      <td>30</td>\n      <td>0</td>\n    </tr>\n    <tr>\n      <th>766</th>\n      <td>1</td>\n      <td>126</td>\n      <td>60</td>\n      <td>0</td>\n      <td>0</td>\n      <td>30.1</td>\n      <td>0.349</td>\n      <td>47</td>\n      <td>1</td>\n    </tr>\n    <tr>\n      <th>767</th>\n      <td>1</td>\n      <td>93</td>\n      <td>70</td>\n      <td>31</td>\n      <td>0</td>\n      <td>30.4</td>\n      <td>0.315</td>\n      <td>23</td>\n      <td>0</td>\n    </tr>\n  </tbody>\n</table>\n<p>768 rows × 9 columns</p>\n</div>"
     },
     "execution_count": 9,
     "metadata": {},
     "output_type": "execute_result"
    }
   ],
   "source": [
    "df"
   ],
   "metadata": {
    "collapsed": false
   }
  },
  {
   "cell_type": "code",
   "execution_count": 10,
   "outputs": [
    {
     "data": {
      "text/plain": "69.10546875"
     },
     "execution_count": 10,
     "metadata": {},
     "output_type": "execute_result"
    }
   ],
   "source": [
    "mean1 = df[\"Pres\"].mean()\n",
    "mean1"
   ],
   "metadata": {
    "collapsed": false
   }
  },
  {
   "cell_type": "code",
   "execution_count": 11,
   "outputs": [],
   "source": [
    "df[\"Pres\"].replace(0,mean1,inplace=True)"
   ],
   "metadata": {
    "collapsed": false
   }
  },
  {
   "cell_type": "code",
   "execution_count": 12,
   "outputs": [
    {
     "data": {
      "text/plain": "Preg     0\nPlas     0\nPres     0\nskin     0\ntest     0\nmass     0\npedi     0\nage      0\nclass    0\ndtype: int64"
     },
     "execution_count": 12,
     "metadata": {},
     "output_type": "execute_result"
    }
   ],
   "source": [
    "df.isnull().sum()"
   ],
   "metadata": {
    "collapsed": false
   }
  },
  {
   "cell_type": "code",
   "execution_count": 13,
   "outputs": [
    {
     "data": {
      "text/plain": "    Preg  Plas       Pres  skin  test  mass   pedi  age  class\n0      6   148  72.000000    35     0  33.6  0.627   50      1\n1      1    85  66.000000    29     0  26.6  0.351   31      0\n2      8   183  64.000000     0     0  23.3  0.672   32      1\n3      1    89  66.000000    23    94  28.1  0.167   21      0\n4      0   137  40.000000    35   168  43.1  2.288   33      1\n5      5   116  74.000000     0     0  25.6  0.201   30      0\n6      3    78  50.000000    32    88  31.0  0.248   26      1\n7     10   115  69.105469     0     0  35.3  0.134   29      0\n8      2   197  70.000000    45   543  30.5  0.158   53      1\n9      8   125  96.000000     0     0   0.0  0.232   54      1\n10     4   110  92.000000     0     0  37.6  0.191   30      0\n11    10   168  74.000000     0     0  38.0  0.537   34      1\n12    10   139  80.000000     0     0  27.1  1.441   57      0\n13     1   189  60.000000    23   846  30.1  0.398   59      1\n14     5   166  72.000000    19   175  25.8  0.587   51      1\n15     7   100  69.105469     0     0  30.0  0.484   32      1\n16     0   118  84.000000    47   230  45.8  0.551   31      1\n17     7   107  74.000000     0     0  29.6  0.254   31      1\n18     1   103  30.000000    38    83  43.3  0.183   33      0\n19     1   115  70.000000    30    96  34.6  0.529   32      1\n20     3   126  88.000000    41   235  39.3  0.704   27      0\n21     8    99  84.000000     0     0  35.4  0.388   50      0\n22     7   196  90.000000     0     0  39.8  0.451   41      1\n23     9   119  80.000000    35     0  29.0  0.263   29      1\n24    11   143  94.000000    33   146  36.6  0.254   51      1",
      "text/html": "<div>\n<style scoped>\n    .dataframe tbody tr th:only-of-type {\n        vertical-align: middle;\n    }\n\n    .dataframe tbody tr th {\n        vertical-align: top;\n    }\n\n    .dataframe thead th {\n        text-align: right;\n    }\n</style>\n<table border=\"1\" class=\"dataframe\">\n  <thead>\n    <tr style=\"text-align: right;\">\n      <th></th>\n      <th>Preg</th>\n      <th>Plas</th>\n      <th>Pres</th>\n      <th>skin</th>\n      <th>test</th>\n      <th>mass</th>\n      <th>pedi</th>\n      <th>age</th>\n      <th>class</th>\n    </tr>\n  </thead>\n  <tbody>\n    <tr>\n      <th>0</th>\n      <td>6</td>\n      <td>148</td>\n      <td>72.000000</td>\n      <td>35</td>\n      <td>0</td>\n      <td>33.6</td>\n      <td>0.627</td>\n      <td>50</td>\n      <td>1</td>\n    </tr>\n    <tr>\n      <th>1</th>\n      <td>1</td>\n      <td>85</td>\n      <td>66.000000</td>\n      <td>29</td>\n      <td>0</td>\n      <td>26.6</td>\n      <td>0.351</td>\n      <td>31</td>\n      <td>0</td>\n    </tr>\n    <tr>\n      <th>2</th>\n      <td>8</td>\n      <td>183</td>\n      <td>64.000000</td>\n      <td>0</td>\n      <td>0</td>\n      <td>23.3</td>\n      <td>0.672</td>\n      <td>32</td>\n      <td>1</td>\n    </tr>\n    <tr>\n      <th>3</th>\n      <td>1</td>\n      <td>89</td>\n      <td>66.000000</td>\n      <td>23</td>\n      <td>94</td>\n      <td>28.1</td>\n      <td>0.167</td>\n      <td>21</td>\n      <td>0</td>\n    </tr>\n    <tr>\n      <th>4</th>\n      <td>0</td>\n      <td>137</td>\n      <td>40.000000</td>\n      <td>35</td>\n      <td>168</td>\n      <td>43.1</td>\n      <td>2.288</td>\n      <td>33</td>\n      <td>1</td>\n    </tr>\n    <tr>\n      <th>5</th>\n      <td>5</td>\n      <td>116</td>\n      <td>74.000000</td>\n      <td>0</td>\n      <td>0</td>\n      <td>25.6</td>\n      <td>0.201</td>\n      <td>30</td>\n      <td>0</td>\n    </tr>\n    <tr>\n      <th>6</th>\n      <td>3</td>\n      <td>78</td>\n      <td>50.000000</td>\n      <td>32</td>\n      <td>88</td>\n      <td>31.0</td>\n      <td>0.248</td>\n      <td>26</td>\n      <td>1</td>\n    </tr>\n    <tr>\n      <th>7</th>\n      <td>10</td>\n      <td>115</td>\n      <td>69.105469</td>\n      <td>0</td>\n      <td>0</td>\n      <td>35.3</td>\n      <td>0.134</td>\n      <td>29</td>\n      <td>0</td>\n    </tr>\n    <tr>\n      <th>8</th>\n      <td>2</td>\n      <td>197</td>\n      <td>70.000000</td>\n      <td>45</td>\n      <td>543</td>\n      <td>30.5</td>\n      <td>0.158</td>\n      <td>53</td>\n      <td>1</td>\n    </tr>\n    <tr>\n      <th>9</th>\n      <td>8</td>\n      <td>125</td>\n      <td>96.000000</td>\n      <td>0</td>\n      <td>0</td>\n      <td>0.0</td>\n      <td>0.232</td>\n      <td>54</td>\n      <td>1</td>\n    </tr>\n    <tr>\n      <th>10</th>\n      <td>4</td>\n      <td>110</td>\n      <td>92.000000</td>\n      <td>0</td>\n      <td>0</td>\n      <td>37.6</td>\n      <td>0.191</td>\n      <td>30</td>\n      <td>0</td>\n    </tr>\n    <tr>\n      <th>11</th>\n      <td>10</td>\n      <td>168</td>\n      <td>74.000000</td>\n      <td>0</td>\n      <td>0</td>\n      <td>38.0</td>\n      <td>0.537</td>\n      <td>34</td>\n      <td>1</td>\n    </tr>\n    <tr>\n      <th>12</th>\n      <td>10</td>\n      <td>139</td>\n      <td>80.000000</td>\n      <td>0</td>\n      <td>0</td>\n      <td>27.1</td>\n      <td>1.441</td>\n      <td>57</td>\n      <td>0</td>\n    </tr>\n    <tr>\n      <th>13</th>\n      <td>1</td>\n      <td>189</td>\n      <td>60.000000</td>\n      <td>23</td>\n      <td>846</td>\n      <td>30.1</td>\n      <td>0.398</td>\n      <td>59</td>\n      <td>1</td>\n    </tr>\n    <tr>\n      <th>14</th>\n      <td>5</td>\n      <td>166</td>\n      <td>72.000000</td>\n      <td>19</td>\n      <td>175</td>\n      <td>25.8</td>\n      <td>0.587</td>\n      <td>51</td>\n      <td>1</td>\n    </tr>\n    <tr>\n      <th>15</th>\n      <td>7</td>\n      <td>100</td>\n      <td>69.105469</td>\n      <td>0</td>\n      <td>0</td>\n      <td>30.0</td>\n      <td>0.484</td>\n      <td>32</td>\n      <td>1</td>\n    </tr>\n    <tr>\n      <th>16</th>\n      <td>0</td>\n      <td>118</td>\n      <td>84.000000</td>\n      <td>47</td>\n      <td>230</td>\n      <td>45.8</td>\n      <td>0.551</td>\n      <td>31</td>\n      <td>1</td>\n    </tr>\n    <tr>\n      <th>17</th>\n      <td>7</td>\n      <td>107</td>\n      <td>74.000000</td>\n      <td>0</td>\n      <td>0</td>\n      <td>29.6</td>\n      <td>0.254</td>\n      <td>31</td>\n      <td>1</td>\n    </tr>\n    <tr>\n      <th>18</th>\n      <td>1</td>\n      <td>103</td>\n      <td>30.000000</td>\n      <td>38</td>\n      <td>83</td>\n      <td>43.3</td>\n      <td>0.183</td>\n      <td>33</td>\n      <td>0</td>\n    </tr>\n    <tr>\n      <th>19</th>\n      <td>1</td>\n      <td>115</td>\n      <td>70.000000</td>\n      <td>30</td>\n      <td>96</td>\n      <td>34.6</td>\n      <td>0.529</td>\n      <td>32</td>\n      <td>1</td>\n    </tr>\n    <tr>\n      <th>20</th>\n      <td>3</td>\n      <td>126</td>\n      <td>88.000000</td>\n      <td>41</td>\n      <td>235</td>\n      <td>39.3</td>\n      <td>0.704</td>\n      <td>27</td>\n      <td>0</td>\n    </tr>\n    <tr>\n      <th>21</th>\n      <td>8</td>\n      <td>99</td>\n      <td>84.000000</td>\n      <td>0</td>\n      <td>0</td>\n      <td>35.4</td>\n      <td>0.388</td>\n      <td>50</td>\n      <td>0</td>\n    </tr>\n    <tr>\n      <th>22</th>\n      <td>7</td>\n      <td>196</td>\n      <td>90.000000</td>\n      <td>0</td>\n      <td>0</td>\n      <td>39.8</td>\n      <td>0.451</td>\n      <td>41</td>\n      <td>1</td>\n    </tr>\n    <tr>\n      <th>23</th>\n      <td>9</td>\n      <td>119</td>\n      <td>80.000000</td>\n      <td>35</td>\n      <td>0</td>\n      <td>29.0</td>\n      <td>0.263</td>\n      <td>29</td>\n      <td>1</td>\n    </tr>\n    <tr>\n      <th>24</th>\n      <td>11</td>\n      <td>143</td>\n      <td>94.000000</td>\n      <td>33</td>\n      <td>146</td>\n      <td>36.6</td>\n      <td>0.254</td>\n      <td>51</td>\n      <td>1</td>\n    </tr>\n  </tbody>\n</table>\n</div>"
     },
     "execution_count": 13,
     "metadata": {},
     "output_type": "execute_result"
    }
   ],
   "source": [
    "df.head(25)"
   ],
   "metadata": {
    "collapsed": false
   }
  },
  {
   "cell_type": "code",
   "execution_count": 14,
   "outputs": [
    {
     "data": {
      "text/plain": "20.536458333333332"
     },
     "execution_count": 14,
     "metadata": {},
     "output_type": "execute_result"
    }
   ],
   "source": [
    "mean1 = df[\"skin\"].mean()\n",
    "mean1\n"
   ],
   "metadata": {
    "collapsed": false
   }
  },
  {
   "cell_type": "code",
   "execution_count": 15,
   "outputs": [
    {
     "data": {
      "text/plain": "    Preg  Plas       Pres       skin  test  mass   pedi  age  class\n0      6   148  72.000000  35.000000     0  33.6  0.627   50      1\n1      1    85  66.000000  29.000000     0  26.6  0.351   31      0\n2      8   183  64.000000  20.536458     0  23.3  0.672   32      1\n3      1    89  66.000000  23.000000    94  28.1  0.167   21      0\n4      0   137  40.000000  35.000000   168  43.1  2.288   33      1\n5      5   116  74.000000  20.536458     0  25.6  0.201   30      0\n6      3    78  50.000000  32.000000    88  31.0  0.248   26      1\n7     10   115  69.105469  20.536458     0  35.3  0.134   29      0\n8      2   197  70.000000  45.000000   543  30.5  0.158   53      1\n9      8   125  96.000000  20.536458     0   0.0  0.232   54      1\n10     4   110  92.000000  20.536458     0  37.6  0.191   30      0\n11    10   168  74.000000  20.536458     0  38.0  0.537   34      1\n12    10   139  80.000000  20.536458     0  27.1  1.441   57      0\n13     1   189  60.000000  23.000000   846  30.1  0.398   59      1\n14     5   166  72.000000  19.000000   175  25.8  0.587   51      1\n15     7   100  69.105469  20.536458     0  30.0  0.484   32      1\n16     0   118  84.000000  47.000000   230  45.8  0.551   31      1\n17     7   107  74.000000  20.536458     0  29.6  0.254   31      1\n18     1   103  30.000000  38.000000    83  43.3  0.183   33      0\n19     1   115  70.000000  30.000000    96  34.6  0.529   32      1\n20     3   126  88.000000  41.000000   235  39.3  0.704   27      0\n21     8    99  84.000000  20.536458     0  35.4  0.388   50      0\n22     7   196  90.000000  20.536458     0  39.8  0.451   41      1\n23     9   119  80.000000  35.000000     0  29.0  0.263   29      1\n24    11   143  94.000000  33.000000   146  36.6  0.254   51      1",
      "text/html": "<div>\n<style scoped>\n    .dataframe tbody tr th:only-of-type {\n        vertical-align: middle;\n    }\n\n    .dataframe tbody tr th {\n        vertical-align: top;\n    }\n\n    .dataframe thead th {\n        text-align: right;\n    }\n</style>\n<table border=\"1\" class=\"dataframe\">\n  <thead>\n    <tr style=\"text-align: right;\">\n      <th></th>\n      <th>Preg</th>\n      <th>Plas</th>\n      <th>Pres</th>\n      <th>skin</th>\n      <th>test</th>\n      <th>mass</th>\n      <th>pedi</th>\n      <th>age</th>\n      <th>class</th>\n    </tr>\n  </thead>\n  <tbody>\n    <tr>\n      <th>0</th>\n      <td>6</td>\n      <td>148</td>\n      <td>72.000000</td>\n      <td>35.000000</td>\n      <td>0</td>\n      <td>33.6</td>\n      <td>0.627</td>\n      <td>50</td>\n      <td>1</td>\n    </tr>\n    <tr>\n      <th>1</th>\n      <td>1</td>\n      <td>85</td>\n      <td>66.000000</td>\n      <td>29.000000</td>\n      <td>0</td>\n      <td>26.6</td>\n      <td>0.351</td>\n      <td>31</td>\n      <td>0</td>\n    </tr>\n    <tr>\n      <th>2</th>\n      <td>8</td>\n      <td>183</td>\n      <td>64.000000</td>\n      <td>20.536458</td>\n      <td>0</td>\n      <td>23.3</td>\n      <td>0.672</td>\n      <td>32</td>\n      <td>1</td>\n    </tr>\n    <tr>\n      <th>3</th>\n      <td>1</td>\n      <td>89</td>\n      <td>66.000000</td>\n      <td>23.000000</td>\n      <td>94</td>\n      <td>28.1</td>\n      <td>0.167</td>\n      <td>21</td>\n      <td>0</td>\n    </tr>\n    <tr>\n      <th>4</th>\n      <td>0</td>\n      <td>137</td>\n      <td>40.000000</td>\n      <td>35.000000</td>\n      <td>168</td>\n      <td>43.1</td>\n      <td>2.288</td>\n      <td>33</td>\n      <td>1</td>\n    </tr>\n    <tr>\n      <th>5</th>\n      <td>5</td>\n      <td>116</td>\n      <td>74.000000</td>\n      <td>20.536458</td>\n      <td>0</td>\n      <td>25.6</td>\n      <td>0.201</td>\n      <td>30</td>\n      <td>0</td>\n    </tr>\n    <tr>\n      <th>6</th>\n      <td>3</td>\n      <td>78</td>\n      <td>50.000000</td>\n      <td>32.000000</td>\n      <td>88</td>\n      <td>31.0</td>\n      <td>0.248</td>\n      <td>26</td>\n      <td>1</td>\n    </tr>\n    <tr>\n      <th>7</th>\n      <td>10</td>\n      <td>115</td>\n      <td>69.105469</td>\n      <td>20.536458</td>\n      <td>0</td>\n      <td>35.3</td>\n      <td>0.134</td>\n      <td>29</td>\n      <td>0</td>\n    </tr>\n    <tr>\n      <th>8</th>\n      <td>2</td>\n      <td>197</td>\n      <td>70.000000</td>\n      <td>45.000000</td>\n      <td>543</td>\n      <td>30.5</td>\n      <td>0.158</td>\n      <td>53</td>\n      <td>1</td>\n    </tr>\n    <tr>\n      <th>9</th>\n      <td>8</td>\n      <td>125</td>\n      <td>96.000000</td>\n      <td>20.536458</td>\n      <td>0</td>\n      <td>0.0</td>\n      <td>0.232</td>\n      <td>54</td>\n      <td>1</td>\n    </tr>\n    <tr>\n      <th>10</th>\n      <td>4</td>\n      <td>110</td>\n      <td>92.000000</td>\n      <td>20.536458</td>\n      <td>0</td>\n      <td>37.6</td>\n      <td>0.191</td>\n      <td>30</td>\n      <td>0</td>\n    </tr>\n    <tr>\n      <th>11</th>\n      <td>10</td>\n      <td>168</td>\n      <td>74.000000</td>\n      <td>20.536458</td>\n      <td>0</td>\n      <td>38.0</td>\n      <td>0.537</td>\n      <td>34</td>\n      <td>1</td>\n    </tr>\n    <tr>\n      <th>12</th>\n      <td>10</td>\n      <td>139</td>\n      <td>80.000000</td>\n      <td>20.536458</td>\n      <td>0</td>\n      <td>27.1</td>\n      <td>1.441</td>\n      <td>57</td>\n      <td>0</td>\n    </tr>\n    <tr>\n      <th>13</th>\n      <td>1</td>\n      <td>189</td>\n      <td>60.000000</td>\n      <td>23.000000</td>\n      <td>846</td>\n      <td>30.1</td>\n      <td>0.398</td>\n      <td>59</td>\n      <td>1</td>\n    </tr>\n    <tr>\n      <th>14</th>\n      <td>5</td>\n      <td>166</td>\n      <td>72.000000</td>\n      <td>19.000000</td>\n      <td>175</td>\n      <td>25.8</td>\n      <td>0.587</td>\n      <td>51</td>\n      <td>1</td>\n    </tr>\n    <tr>\n      <th>15</th>\n      <td>7</td>\n      <td>100</td>\n      <td>69.105469</td>\n      <td>20.536458</td>\n      <td>0</td>\n      <td>30.0</td>\n      <td>0.484</td>\n      <td>32</td>\n      <td>1</td>\n    </tr>\n    <tr>\n      <th>16</th>\n      <td>0</td>\n      <td>118</td>\n      <td>84.000000</td>\n      <td>47.000000</td>\n      <td>230</td>\n      <td>45.8</td>\n      <td>0.551</td>\n      <td>31</td>\n      <td>1</td>\n    </tr>\n    <tr>\n      <th>17</th>\n      <td>7</td>\n      <td>107</td>\n      <td>74.000000</td>\n      <td>20.536458</td>\n      <td>0</td>\n      <td>29.6</td>\n      <td>0.254</td>\n      <td>31</td>\n      <td>1</td>\n    </tr>\n    <tr>\n      <th>18</th>\n      <td>1</td>\n      <td>103</td>\n      <td>30.000000</td>\n      <td>38.000000</td>\n      <td>83</td>\n      <td>43.3</td>\n      <td>0.183</td>\n      <td>33</td>\n      <td>0</td>\n    </tr>\n    <tr>\n      <th>19</th>\n      <td>1</td>\n      <td>115</td>\n      <td>70.000000</td>\n      <td>30.000000</td>\n      <td>96</td>\n      <td>34.6</td>\n      <td>0.529</td>\n      <td>32</td>\n      <td>1</td>\n    </tr>\n    <tr>\n      <th>20</th>\n      <td>3</td>\n      <td>126</td>\n      <td>88.000000</td>\n      <td>41.000000</td>\n      <td>235</td>\n      <td>39.3</td>\n      <td>0.704</td>\n      <td>27</td>\n      <td>0</td>\n    </tr>\n    <tr>\n      <th>21</th>\n      <td>8</td>\n      <td>99</td>\n      <td>84.000000</td>\n      <td>20.536458</td>\n      <td>0</td>\n      <td>35.4</td>\n      <td>0.388</td>\n      <td>50</td>\n      <td>0</td>\n    </tr>\n    <tr>\n      <th>22</th>\n      <td>7</td>\n      <td>196</td>\n      <td>90.000000</td>\n      <td>20.536458</td>\n      <td>0</td>\n      <td>39.8</td>\n      <td>0.451</td>\n      <td>41</td>\n      <td>1</td>\n    </tr>\n    <tr>\n      <th>23</th>\n      <td>9</td>\n      <td>119</td>\n      <td>80.000000</td>\n      <td>35.000000</td>\n      <td>0</td>\n      <td>29.0</td>\n      <td>0.263</td>\n      <td>29</td>\n      <td>1</td>\n    </tr>\n    <tr>\n      <th>24</th>\n      <td>11</td>\n      <td>143</td>\n      <td>94.000000</td>\n      <td>33.000000</td>\n      <td>146</td>\n      <td>36.6</td>\n      <td>0.254</td>\n      <td>51</td>\n      <td>1</td>\n    </tr>\n  </tbody>\n</table>\n</div>"
     },
     "execution_count": 15,
     "metadata": {},
     "output_type": "execute_result"
    }
   ],
   "source": [
    "df[\"skin\"].replace(0,mean1,inplace=True)\n",
    "df.isnull().sum()\n",
    "df.head(25)"
   ],
   "metadata": {
    "collapsed": false
   }
  },
  {
   "cell_type": "code",
   "execution_count": 16,
   "outputs": [
    {
     "data": {
      "text/plain": "    Preg  Plas       Pres       skin        test  mass   pedi  age  class\n0      6   148  72.000000  35.000000   79.799479  33.6  0.627   50      1\n1      1    85  66.000000  29.000000   79.799479  26.6  0.351   31      0\n2      8   183  64.000000  20.536458   79.799479  23.3  0.672   32      1\n3      1    89  66.000000  23.000000   94.000000  28.1  0.167   21      0\n4      0   137  40.000000  35.000000  168.000000  43.1  2.288   33      1\n5      5   116  74.000000  20.536458   79.799479  25.6  0.201   30      0\n6      3    78  50.000000  32.000000   88.000000  31.0  0.248   26      1\n7     10   115  69.105469  20.536458   79.799479  35.3  0.134   29      0\n8      2   197  70.000000  45.000000  543.000000  30.5  0.158   53      1\n9      8   125  96.000000  20.536458   79.799479   0.0  0.232   54      1\n10     4   110  92.000000  20.536458   79.799479  37.6  0.191   30      0\n11    10   168  74.000000  20.536458   79.799479  38.0  0.537   34      1\n12    10   139  80.000000  20.536458   79.799479  27.1  1.441   57      0\n13     1   189  60.000000  23.000000  846.000000  30.1  0.398   59      1\n14     5   166  72.000000  19.000000  175.000000  25.8  0.587   51      1\n15     7   100  69.105469  20.536458   79.799479  30.0  0.484   32      1\n16     0   118  84.000000  47.000000  230.000000  45.8  0.551   31      1\n17     7   107  74.000000  20.536458   79.799479  29.6  0.254   31      1\n18     1   103  30.000000  38.000000   83.000000  43.3  0.183   33      0\n19     1   115  70.000000  30.000000   96.000000  34.6  0.529   32      1\n20     3   126  88.000000  41.000000  235.000000  39.3  0.704   27      0\n21     8    99  84.000000  20.536458   79.799479  35.4  0.388   50      0\n22     7   196  90.000000  20.536458   79.799479  39.8  0.451   41      1\n23     9   119  80.000000  35.000000   79.799479  29.0  0.263   29      1\n24    11   143  94.000000  33.000000  146.000000  36.6  0.254   51      1",
      "text/html": "<div>\n<style scoped>\n    .dataframe tbody tr th:only-of-type {\n        vertical-align: middle;\n    }\n\n    .dataframe tbody tr th {\n        vertical-align: top;\n    }\n\n    .dataframe thead th {\n        text-align: right;\n    }\n</style>\n<table border=\"1\" class=\"dataframe\">\n  <thead>\n    <tr style=\"text-align: right;\">\n      <th></th>\n      <th>Preg</th>\n      <th>Plas</th>\n      <th>Pres</th>\n      <th>skin</th>\n      <th>test</th>\n      <th>mass</th>\n      <th>pedi</th>\n      <th>age</th>\n      <th>class</th>\n    </tr>\n  </thead>\n  <tbody>\n    <tr>\n      <th>0</th>\n      <td>6</td>\n      <td>148</td>\n      <td>72.000000</td>\n      <td>35.000000</td>\n      <td>79.799479</td>\n      <td>33.6</td>\n      <td>0.627</td>\n      <td>50</td>\n      <td>1</td>\n    </tr>\n    <tr>\n      <th>1</th>\n      <td>1</td>\n      <td>85</td>\n      <td>66.000000</td>\n      <td>29.000000</td>\n      <td>79.799479</td>\n      <td>26.6</td>\n      <td>0.351</td>\n      <td>31</td>\n      <td>0</td>\n    </tr>\n    <tr>\n      <th>2</th>\n      <td>8</td>\n      <td>183</td>\n      <td>64.000000</td>\n      <td>20.536458</td>\n      <td>79.799479</td>\n      <td>23.3</td>\n      <td>0.672</td>\n      <td>32</td>\n      <td>1</td>\n    </tr>\n    <tr>\n      <th>3</th>\n      <td>1</td>\n      <td>89</td>\n      <td>66.000000</td>\n      <td>23.000000</td>\n      <td>94.000000</td>\n      <td>28.1</td>\n      <td>0.167</td>\n      <td>21</td>\n      <td>0</td>\n    </tr>\n    <tr>\n      <th>4</th>\n      <td>0</td>\n      <td>137</td>\n      <td>40.000000</td>\n      <td>35.000000</td>\n      <td>168.000000</td>\n      <td>43.1</td>\n      <td>2.288</td>\n      <td>33</td>\n      <td>1</td>\n    </tr>\n    <tr>\n      <th>5</th>\n      <td>5</td>\n      <td>116</td>\n      <td>74.000000</td>\n      <td>20.536458</td>\n      <td>79.799479</td>\n      <td>25.6</td>\n      <td>0.201</td>\n      <td>30</td>\n      <td>0</td>\n    </tr>\n    <tr>\n      <th>6</th>\n      <td>3</td>\n      <td>78</td>\n      <td>50.000000</td>\n      <td>32.000000</td>\n      <td>88.000000</td>\n      <td>31.0</td>\n      <td>0.248</td>\n      <td>26</td>\n      <td>1</td>\n    </tr>\n    <tr>\n      <th>7</th>\n      <td>10</td>\n      <td>115</td>\n      <td>69.105469</td>\n      <td>20.536458</td>\n      <td>79.799479</td>\n      <td>35.3</td>\n      <td>0.134</td>\n      <td>29</td>\n      <td>0</td>\n    </tr>\n    <tr>\n      <th>8</th>\n      <td>2</td>\n      <td>197</td>\n      <td>70.000000</td>\n      <td>45.000000</td>\n      <td>543.000000</td>\n      <td>30.5</td>\n      <td>0.158</td>\n      <td>53</td>\n      <td>1</td>\n    </tr>\n    <tr>\n      <th>9</th>\n      <td>8</td>\n      <td>125</td>\n      <td>96.000000</td>\n      <td>20.536458</td>\n      <td>79.799479</td>\n      <td>0.0</td>\n      <td>0.232</td>\n      <td>54</td>\n      <td>1</td>\n    </tr>\n    <tr>\n      <th>10</th>\n      <td>4</td>\n      <td>110</td>\n      <td>92.000000</td>\n      <td>20.536458</td>\n      <td>79.799479</td>\n      <td>37.6</td>\n      <td>0.191</td>\n      <td>30</td>\n      <td>0</td>\n    </tr>\n    <tr>\n      <th>11</th>\n      <td>10</td>\n      <td>168</td>\n      <td>74.000000</td>\n      <td>20.536458</td>\n      <td>79.799479</td>\n      <td>38.0</td>\n      <td>0.537</td>\n      <td>34</td>\n      <td>1</td>\n    </tr>\n    <tr>\n      <th>12</th>\n      <td>10</td>\n      <td>139</td>\n      <td>80.000000</td>\n      <td>20.536458</td>\n      <td>79.799479</td>\n      <td>27.1</td>\n      <td>1.441</td>\n      <td>57</td>\n      <td>0</td>\n    </tr>\n    <tr>\n      <th>13</th>\n      <td>1</td>\n      <td>189</td>\n      <td>60.000000</td>\n      <td>23.000000</td>\n      <td>846.000000</td>\n      <td>30.1</td>\n      <td>0.398</td>\n      <td>59</td>\n      <td>1</td>\n    </tr>\n    <tr>\n      <th>14</th>\n      <td>5</td>\n      <td>166</td>\n      <td>72.000000</td>\n      <td>19.000000</td>\n      <td>175.000000</td>\n      <td>25.8</td>\n      <td>0.587</td>\n      <td>51</td>\n      <td>1</td>\n    </tr>\n    <tr>\n      <th>15</th>\n      <td>7</td>\n      <td>100</td>\n      <td>69.105469</td>\n      <td>20.536458</td>\n      <td>79.799479</td>\n      <td>30.0</td>\n      <td>0.484</td>\n      <td>32</td>\n      <td>1</td>\n    </tr>\n    <tr>\n      <th>16</th>\n      <td>0</td>\n      <td>118</td>\n      <td>84.000000</td>\n      <td>47.000000</td>\n      <td>230.000000</td>\n      <td>45.8</td>\n      <td>0.551</td>\n      <td>31</td>\n      <td>1</td>\n    </tr>\n    <tr>\n      <th>17</th>\n      <td>7</td>\n      <td>107</td>\n      <td>74.000000</td>\n      <td>20.536458</td>\n      <td>79.799479</td>\n      <td>29.6</td>\n      <td>0.254</td>\n      <td>31</td>\n      <td>1</td>\n    </tr>\n    <tr>\n      <th>18</th>\n      <td>1</td>\n      <td>103</td>\n      <td>30.000000</td>\n      <td>38.000000</td>\n      <td>83.000000</td>\n      <td>43.3</td>\n      <td>0.183</td>\n      <td>33</td>\n      <td>0</td>\n    </tr>\n    <tr>\n      <th>19</th>\n      <td>1</td>\n      <td>115</td>\n      <td>70.000000</td>\n      <td>30.000000</td>\n      <td>96.000000</td>\n      <td>34.6</td>\n      <td>0.529</td>\n      <td>32</td>\n      <td>1</td>\n    </tr>\n    <tr>\n      <th>20</th>\n      <td>3</td>\n      <td>126</td>\n      <td>88.000000</td>\n      <td>41.000000</td>\n      <td>235.000000</td>\n      <td>39.3</td>\n      <td>0.704</td>\n      <td>27</td>\n      <td>0</td>\n    </tr>\n    <tr>\n      <th>21</th>\n      <td>8</td>\n      <td>99</td>\n      <td>84.000000</td>\n      <td>20.536458</td>\n      <td>79.799479</td>\n      <td>35.4</td>\n      <td>0.388</td>\n      <td>50</td>\n      <td>0</td>\n    </tr>\n    <tr>\n      <th>22</th>\n      <td>7</td>\n      <td>196</td>\n      <td>90.000000</td>\n      <td>20.536458</td>\n      <td>79.799479</td>\n      <td>39.8</td>\n      <td>0.451</td>\n      <td>41</td>\n      <td>1</td>\n    </tr>\n    <tr>\n      <th>23</th>\n      <td>9</td>\n      <td>119</td>\n      <td>80.000000</td>\n      <td>35.000000</td>\n      <td>79.799479</td>\n      <td>29.0</td>\n      <td>0.263</td>\n      <td>29</td>\n      <td>1</td>\n    </tr>\n    <tr>\n      <th>24</th>\n      <td>11</td>\n      <td>143</td>\n      <td>94.000000</td>\n      <td>33.000000</td>\n      <td>146.000000</td>\n      <td>36.6</td>\n      <td>0.254</td>\n      <td>51</td>\n      <td>1</td>\n    </tr>\n  </tbody>\n</table>\n</div>"
     },
     "execution_count": 16,
     "metadata": {},
     "output_type": "execute_result"
    }
   ],
   "source": [
    "mean1 = df[\"test\"].mean()\n",
    "mean1\n",
    "df[\"test\"].replace(0,mean1,inplace=True)\n",
    "df.isnull().sum()\n",
    "df.head(25)"
   ],
   "metadata": {
    "collapsed": false
   }
  },
  {
   "cell_type": "code",
   "execution_count": 163,
   "outputs": [
    {
     "data": {
      "text/plain": "    Preg  Plas       Pres       skin        test       mass   pedi  age  class\n0      6   148  72.000000  35.000000   79.799479  33.600000  0.627   50      1\n1      1    85  66.000000  29.000000   79.799479  26.600000  0.351   31      0\n2      8   183  64.000000  20.536458   79.799479  23.300000  0.672   32      1\n3      1    89  66.000000  23.000000   94.000000  28.100000  0.167   21      0\n4      0   137  40.000000  35.000000  168.000000  43.100000  2.288   33      1\n5      5   116  74.000000  20.536458   79.799479  25.600000  0.201   30      0\n6      3    78  50.000000  32.000000   88.000000  31.000000  0.248   26      1\n7     10   115  69.105469  20.536458   79.799479  35.300000  0.134   29      0\n8      2   197  70.000000  45.000000  543.000000  30.500000  0.158   53      1\n9      8   125  96.000000  20.536458   79.799479  31.992578  0.232   54      1\n10     4   110  92.000000  20.536458   79.799479  37.600000  0.191   30      0\n11    10   168  74.000000  20.536458   79.799479  38.000000  0.537   34      1\n12    10   139  80.000000  20.536458   79.799479  27.100000  1.441   57      0\n13     1   189  60.000000  23.000000  846.000000  30.100000  0.398   59      1\n14     5   166  72.000000  19.000000  175.000000  25.800000  0.587   51      1\n15     7   100  69.105469  20.536458   79.799479  30.000000  0.484   32      1\n16     0   118  84.000000  47.000000  230.000000  45.800000  0.551   31      1\n17     7   107  74.000000  20.536458   79.799479  29.600000  0.254   31      1\n18     1   103  30.000000  38.000000   83.000000  43.300000  0.183   33      0\n19     1   115  70.000000  30.000000   96.000000  34.600000  0.529   32      1\n20     3   126  88.000000  41.000000  235.000000  39.300000  0.704   27      0\n21     8    99  84.000000  20.536458   79.799479  35.400000  0.388   50      0\n22     7   196  90.000000  20.536458   79.799479  39.800000  0.451   41      1\n23     9   119  80.000000  35.000000   79.799479  29.000000  0.263   29      1\n24    11   143  94.000000  33.000000  146.000000  36.600000  0.254   51      1",
      "text/html": "<div>\n<style scoped>\n    .dataframe tbody tr th:only-of-type {\n        vertical-align: middle;\n    }\n\n    .dataframe tbody tr th {\n        vertical-align: top;\n    }\n\n    .dataframe thead th {\n        text-align: right;\n    }\n</style>\n<table border=\"1\" class=\"dataframe\">\n  <thead>\n    <tr style=\"text-align: right;\">\n      <th></th>\n      <th>Preg</th>\n      <th>Plas</th>\n      <th>Pres</th>\n      <th>skin</th>\n      <th>test</th>\n      <th>mass</th>\n      <th>pedi</th>\n      <th>age</th>\n      <th>class</th>\n    </tr>\n  </thead>\n  <tbody>\n    <tr>\n      <th>0</th>\n      <td>6</td>\n      <td>148</td>\n      <td>72.000000</td>\n      <td>35.000000</td>\n      <td>79.799479</td>\n      <td>33.600000</td>\n      <td>0.627</td>\n      <td>50</td>\n      <td>1</td>\n    </tr>\n    <tr>\n      <th>1</th>\n      <td>1</td>\n      <td>85</td>\n      <td>66.000000</td>\n      <td>29.000000</td>\n      <td>79.799479</td>\n      <td>26.600000</td>\n      <td>0.351</td>\n      <td>31</td>\n      <td>0</td>\n    </tr>\n    <tr>\n      <th>2</th>\n      <td>8</td>\n      <td>183</td>\n      <td>64.000000</td>\n      <td>20.536458</td>\n      <td>79.799479</td>\n      <td>23.300000</td>\n      <td>0.672</td>\n      <td>32</td>\n      <td>1</td>\n    </tr>\n    <tr>\n      <th>3</th>\n      <td>1</td>\n      <td>89</td>\n      <td>66.000000</td>\n      <td>23.000000</td>\n      <td>94.000000</td>\n      <td>28.100000</td>\n      <td>0.167</td>\n      <td>21</td>\n      <td>0</td>\n    </tr>\n    <tr>\n      <th>4</th>\n      <td>0</td>\n      <td>137</td>\n      <td>40.000000</td>\n      <td>35.000000</td>\n      <td>168.000000</td>\n      <td>43.100000</td>\n      <td>2.288</td>\n      <td>33</td>\n      <td>1</td>\n    </tr>\n    <tr>\n      <th>5</th>\n      <td>5</td>\n      <td>116</td>\n      <td>74.000000</td>\n      <td>20.536458</td>\n      <td>79.799479</td>\n      <td>25.600000</td>\n      <td>0.201</td>\n      <td>30</td>\n      <td>0</td>\n    </tr>\n    <tr>\n      <th>6</th>\n      <td>3</td>\n      <td>78</td>\n      <td>50.000000</td>\n      <td>32.000000</td>\n      <td>88.000000</td>\n      <td>31.000000</td>\n      <td>0.248</td>\n      <td>26</td>\n      <td>1</td>\n    </tr>\n    <tr>\n      <th>7</th>\n      <td>10</td>\n      <td>115</td>\n      <td>69.105469</td>\n      <td>20.536458</td>\n      <td>79.799479</td>\n      <td>35.300000</td>\n      <td>0.134</td>\n      <td>29</td>\n      <td>0</td>\n    </tr>\n    <tr>\n      <th>8</th>\n      <td>2</td>\n      <td>197</td>\n      <td>70.000000</td>\n      <td>45.000000</td>\n      <td>543.000000</td>\n      <td>30.500000</td>\n      <td>0.158</td>\n      <td>53</td>\n      <td>1</td>\n    </tr>\n    <tr>\n      <th>9</th>\n      <td>8</td>\n      <td>125</td>\n      <td>96.000000</td>\n      <td>20.536458</td>\n      <td>79.799479</td>\n      <td>31.992578</td>\n      <td>0.232</td>\n      <td>54</td>\n      <td>1</td>\n    </tr>\n    <tr>\n      <th>10</th>\n      <td>4</td>\n      <td>110</td>\n      <td>92.000000</td>\n      <td>20.536458</td>\n      <td>79.799479</td>\n      <td>37.600000</td>\n      <td>0.191</td>\n      <td>30</td>\n      <td>0</td>\n    </tr>\n    <tr>\n      <th>11</th>\n      <td>10</td>\n      <td>168</td>\n      <td>74.000000</td>\n      <td>20.536458</td>\n      <td>79.799479</td>\n      <td>38.000000</td>\n      <td>0.537</td>\n      <td>34</td>\n      <td>1</td>\n    </tr>\n    <tr>\n      <th>12</th>\n      <td>10</td>\n      <td>139</td>\n      <td>80.000000</td>\n      <td>20.536458</td>\n      <td>79.799479</td>\n      <td>27.100000</td>\n      <td>1.441</td>\n      <td>57</td>\n      <td>0</td>\n    </tr>\n    <tr>\n      <th>13</th>\n      <td>1</td>\n      <td>189</td>\n      <td>60.000000</td>\n      <td>23.000000</td>\n      <td>846.000000</td>\n      <td>30.100000</td>\n      <td>0.398</td>\n      <td>59</td>\n      <td>1</td>\n    </tr>\n    <tr>\n      <th>14</th>\n      <td>5</td>\n      <td>166</td>\n      <td>72.000000</td>\n      <td>19.000000</td>\n      <td>175.000000</td>\n      <td>25.800000</td>\n      <td>0.587</td>\n      <td>51</td>\n      <td>1</td>\n    </tr>\n    <tr>\n      <th>15</th>\n      <td>7</td>\n      <td>100</td>\n      <td>69.105469</td>\n      <td>20.536458</td>\n      <td>79.799479</td>\n      <td>30.000000</td>\n      <td>0.484</td>\n      <td>32</td>\n      <td>1</td>\n    </tr>\n    <tr>\n      <th>16</th>\n      <td>0</td>\n      <td>118</td>\n      <td>84.000000</td>\n      <td>47.000000</td>\n      <td>230.000000</td>\n      <td>45.800000</td>\n      <td>0.551</td>\n      <td>31</td>\n      <td>1</td>\n    </tr>\n    <tr>\n      <th>17</th>\n      <td>7</td>\n      <td>107</td>\n      <td>74.000000</td>\n      <td>20.536458</td>\n      <td>79.799479</td>\n      <td>29.600000</td>\n      <td>0.254</td>\n      <td>31</td>\n      <td>1</td>\n    </tr>\n    <tr>\n      <th>18</th>\n      <td>1</td>\n      <td>103</td>\n      <td>30.000000</td>\n      <td>38.000000</td>\n      <td>83.000000</td>\n      <td>43.300000</td>\n      <td>0.183</td>\n      <td>33</td>\n      <td>0</td>\n    </tr>\n    <tr>\n      <th>19</th>\n      <td>1</td>\n      <td>115</td>\n      <td>70.000000</td>\n      <td>30.000000</td>\n      <td>96.000000</td>\n      <td>34.600000</td>\n      <td>0.529</td>\n      <td>32</td>\n      <td>1</td>\n    </tr>\n    <tr>\n      <th>20</th>\n      <td>3</td>\n      <td>126</td>\n      <td>88.000000</td>\n      <td>41.000000</td>\n      <td>235.000000</td>\n      <td>39.300000</td>\n      <td>0.704</td>\n      <td>27</td>\n      <td>0</td>\n    </tr>\n    <tr>\n      <th>21</th>\n      <td>8</td>\n      <td>99</td>\n      <td>84.000000</td>\n      <td>20.536458</td>\n      <td>79.799479</td>\n      <td>35.400000</td>\n      <td>0.388</td>\n      <td>50</td>\n      <td>0</td>\n    </tr>\n    <tr>\n      <th>22</th>\n      <td>7</td>\n      <td>196</td>\n      <td>90.000000</td>\n      <td>20.536458</td>\n      <td>79.799479</td>\n      <td>39.800000</td>\n      <td>0.451</td>\n      <td>41</td>\n      <td>1</td>\n    </tr>\n    <tr>\n      <th>23</th>\n      <td>9</td>\n      <td>119</td>\n      <td>80.000000</td>\n      <td>35.000000</td>\n      <td>79.799479</td>\n      <td>29.000000</td>\n      <td>0.263</td>\n      <td>29</td>\n      <td>1</td>\n    </tr>\n    <tr>\n      <th>24</th>\n      <td>11</td>\n      <td>143</td>\n      <td>94.000000</td>\n      <td>33.000000</td>\n      <td>146.000000</td>\n      <td>36.600000</td>\n      <td>0.254</td>\n      <td>51</td>\n      <td>1</td>\n    </tr>\n  </tbody>\n</table>\n</div>"
     },
     "execution_count": 163,
     "metadata": {},
     "output_type": "execute_result"
    }
   ],
   "source": [
    "mean1 = df[\"mass\"].mean()\n",
    "mean1\n",
    "df[\"mass\"].replace(0,mean1,inplace=True)\n",
    "df.isnull().sum()\n",
    "df.head(25)"
   ],
   "metadata": {
    "collapsed": false
   }
  },
  {
   "cell_type": "code",
   "execution_count": 164,
   "outputs": [
    {
     "data": {
      "text/plain": "Preg       int64\nPlas       int64\nPres     float64\nskin     float64\ntest     float64\nmass     float64\npedi     float64\nage        int64\nclass      int64\ndtype: object"
     },
     "execution_count": 164,
     "metadata": {},
     "output_type": "execute_result"
    }
   ],
   "source": [
    "df.dtypes"
   ],
   "metadata": {
    "collapsed": false
   }
  },
  {
   "cell_type": "code",
   "execution_count": 166,
   "outputs": [
    {
     "name": "stdout",
     "output_type": "stream",
     "text": [
      "No duplicate rows found.\n"
     ]
    }
   ],
   "source": [
    "duplicate_rows = df[df.duplicated()]\n",
    "if not duplicate_rows.empty:\n",
    "    print(\"Duplicate rows:\")\n",
    "    print(duplicate_rows)\n",
    "else:\n",
    "    print(\"No duplicate rows found.\")"
   ],
   "metadata": {
    "collapsed": false
   }
  },
  {
   "cell_type": "markdown",
   "source": [
    "### Auto MPG"
   ],
   "metadata": {
    "collapsed": false
   }
  },
  {
   "cell_type": "code",
   "execution_count": 18,
   "outputs": [
    {
     "data": {
      "text/plain": "mpg         float64\ncyl           int64\ndisp        float64\nhp           object\nwt            int64\nacc         float64\nyr            int64\norigin        int64\ncar name     object\ndtype: object"
     },
     "execution_count": 18,
     "metadata": {},
     "output_type": "execute_result"
    }
   ],
   "source": [
    "df = pd.read_csv(\"auto-mpg.csv\")\n",
    "df.dtypes"
   ],
   "metadata": {
    "collapsed": false
   }
  },
  {
   "cell_type": "code",
   "execution_count": 19,
   "outputs": [
    {
     "data": {
      "text/plain": "      mpg  cyl   disp   hp    wt   acc  yr  origin                   car name\n0    18.0    8  307.0  130  3504  12.0  70       1  chevrolet chevelle malibu\n1    15.0    8  350.0  165  3693  11.5  70       1          buick skylark 320\n2    18.0    8  318.0  150  3436  11.0  70       1         plymouth satellite\n3    16.0    8  304.0  150  3433  12.0  70       1              amc rebel sst\n4    17.0    8  302.0  140  3449  10.5  70       1                ford torino\n..    ...  ...    ...  ...   ...   ...  ..     ...                        ...\n393  27.0    4  140.0   86  2790  15.6  82       1            ford mustang gl\n394  44.0    4   97.0   52  2130  24.6  82       2                  vw pickup\n395  32.0    4  135.0   84  2295  11.6  82       1              dodge rampage\n396  28.0    4  120.0   79  2625  18.6  82       1                ford ranger\n397  31.0    4  119.0   82  2720  19.4  82       1                 chevy s-10\n\n[398 rows x 9 columns]",
      "text/html": "<div>\n<style scoped>\n    .dataframe tbody tr th:only-of-type {\n        vertical-align: middle;\n    }\n\n    .dataframe tbody tr th {\n        vertical-align: top;\n    }\n\n    .dataframe thead th {\n        text-align: right;\n    }\n</style>\n<table border=\"1\" class=\"dataframe\">\n  <thead>\n    <tr style=\"text-align: right;\">\n      <th></th>\n      <th>mpg</th>\n      <th>cyl</th>\n      <th>disp</th>\n      <th>hp</th>\n      <th>wt</th>\n      <th>acc</th>\n      <th>yr</th>\n      <th>origin</th>\n      <th>car name</th>\n    </tr>\n  </thead>\n  <tbody>\n    <tr>\n      <th>0</th>\n      <td>18.0</td>\n      <td>8</td>\n      <td>307.0</td>\n      <td>130</td>\n      <td>3504</td>\n      <td>12.0</td>\n      <td>70</td>\n      <td>1</td>\n      <td>chevrolet chevelle malibu</td>\n    </tr>\n    <tr>\n      <th>1</th>\n      <td>15.0</td>\n      <td>8</td>\n      <td>350.0</td>\n      <td>165</td>\n      <td>3693</td>\n      <td>11.5</td>\n      <td>70</td>\n      <td>1</td>\n      <td>buick skylark 320</td>\n    </tr>\n    <tr>\n      <th>2</th>\n      <td>18.0</td>\n      <td>8</td>\n      <td>318.0</td>\n      <td>150</td>\n      <td>3436</td>\n      <td>11.0</td>\n      <td>70</td>\n      <td>1</td>\n      <td>plymouth satellite</td>\n    </tr>\n    <tr>\n      <th>3</th>\n      <td>16.0</td>\n      <td>8</td>\n      <td>304.0</td>\n      <td>150</td>\n      <td>3433</td>\n      <td>12.0</td>\n      <td>70</td>\n      <td>1</td>\n      <td>amc rebel sst</td>\n    </tr>\n    <tr>\n      <th>4</th>\n      <td>17.0</td>\n      <td>8</td>\n      <td>302.0</td>\n      <td>140</td>\n      <td>3449</td>\n      <td>10.5</td>\n      <td>70</td>\n      <td>1</td>\n      <td>ford torino</td>\n    </tr>\n    <tr>\n      <th>...</th>\n      <td>...</td>\n      <td>...</td>\n      <td>...</td>\n      <td>...</td>\n      <td>...</td>\n      <td>...</td>\n      <td>...</td>\n      <td>...</td>\n      <td>...</td>\n    </tr>\n    <tr>\n      <th>393</th>\n      <td>27.0</td>\n      <td>4</td>\n      <td>140.0</td>\n      <td>86</td>\n      <td>2790</td>\n      <td>15.6</td>\n      <td>82</td>\n      <td>1</td>\n      <td>ford mustang gl</td>\n    </tr>\n    <tr>\n      <th>394</th>\n      <td>44.0</td>\n      <td>4</td>\n      <td>97.0</td>\n      <td>52</td>\n      <td>2130</td>\n      <td>24.6</td>\n      <td>82</td>\n      <td>2</td>\n      <td>vw pickup</td>\n    </tr>\n    <tr>\n      <th>395</th>\n      <td>32.0</td>\n      <td>4</td>\n      <td>135.0</td>\n      <td>84</td>\n      <td>2295</td>\n      <td>11.6</td>\n      <td>82</td>\n      <td>1</td>\n      <td>dodge rampage</td>\n    </tr>\n    <tr>\n      <th>396</th>\n      <td>28.0</td>\n      <td>4</td>\n      <td>120.0</td>\n      <td>79</td>\n      <td>2625</td>\n      <td>18.6</td>\n      <td>82</td>\n      <td>1</td>\n      <td>ford ranger</td>\n    </tr>\n    <tr>\n      <th>397</th>\n      <td>31.0</td>\n      <td>4</td>\n      <td>119.0</td>\n      <td>82</td>\n      <td>2720</td>\n      <td>19.4</td>\n      <td>82</td>\n      <td>1</td>\n      <td>chevy s-10</td>\n    </tr>\n  </tbody>\n</table>\n<p>398 rows × 9 columns</p>\n</div>"
     },
     "execution_count": 19,
     "metadata": {},
     "output_type": "execute_result"
    }
   ],
   "source": [
    "df"
   ],
   "metadata": {
    "collapsed": false
   }
  },
  {
   "cell_type": "code",
   "execution_count": 20,
   "outputs": [
    {
     "data": {
      "text/plain": "      mpg  cyl   disp   hp    wt   acc  yr  origin                   car name\n359  28.1    4  141.0   80  3230  20.4  81       2  peugeot 505s turbo diesel\n369  34.0    4  112.0   88  2395  18.0  82       1  chevrolet cavalier 2-door\n80   22.0    4  122.0   86  2395  16.0  72       1            ford pinto (sw)\n51   30.0    4   79.0   70  2074  19.5  71       2                peugeot 304\n195  29.0    4   85.0   52  2035  22.2  76       1         chevrolet chevette\n284  20.6    6  225.0  110  3360  16.6  79       1              dodge aspen 6\n197  29.0    4   90.0   70  1937  14.2  76       2                  vw rabbit\n384  32.0    4   91.0   67  1965  15.7  82       3         honda civic (auto)\n343  39.1    4   79.0   58  1755  16.9  81       3             toyota starlet\n52   30.0    4   88.0   76  2065  14.5  71       2                  fiat 124b\n103  11.0    8  400.0  150  4997  14.0  73       1           chevrolet impala\n347  37.0    4   85.0   65  1975  19.4  81       3             datsun 210 mpg\n0    18.0    8  307.0  130  3504  12.0  70       1  chevrolet chevelle malibu\n100  18.0    6  250.0   88  3021  16.5  73       1              ford maverick\n259  20.8    6  200.0   85  3070  16.7  78       1             mercury zephyr\n378  38.0    4  105.0   63  2125  14.7  82       1     plymouth horizon miser\n177  23.0    4  115.0   95  2694  15.0  75       2                 audi 100ls\n48   18.0    6  250.0   88  3139  14.5  71       1               ford mustang\n225  17.5    6  250.0  110  3520  16.4  77       1         chevrolet concours\n148  26.0    4  116.0   75  2246  14.0  74       2                fiat 124 tc",
      "text/html": "<div>\n<style scoped>\n    .dataframe tbody tr th:only-of-type {\n        vertical-align: middle;\n    }\n\n    .dataframe tbody tr th {\n        vertical-align: top;\n    }\n\n    .dataframe thead th {\n        text-align: right;\n    }\n</style>\n<table border=\"1\" class=\"dataframe\">\n  <thead>\n    <tr style=\"text-align: right;\">\n      <th></th>\n      <th>mpg</th>\n      <th>cyl</th>\n      <th>disp</th>\n      <th>hp</th>\n      <th>wt</th>\n      <th>acc</th>\n      <th>yr</th>\n      <th>origin</th>\n      <th>car name</th>\n    </tr>\n  </thead>\n  <tbody>\n    <tr>\n      <th>359</th>\n      <td>28.1</td>\n      <td>4</td>\n      <td>141.0</td>\n      <td>80</td>\n      <td>3230</td>\n      <td>20.4</td>\n      <td>81</td>\n      <td>2</td>\n      <td>peugeot 505s turbo diesel</td>\n    </tr>\n    <tr>\n      <th>369</th>\n      <td>34.0</td>\n      <td>4</td>\n      <td>112.0</td>\n      <td>88</td>\n      <td>2395</td>\n      <td>18.0</td>\n      <td>82</td>\n      <td>1</td>\n      <td>chevrolet cavalier 2-door</td>\n    </tr>\n    <tr>\n      <th>80</th>\n      <td>22.0</td>\n      <td>4</td>\n      <td>122.0</td>\n      <td>86</td>\n      <td>2395</td>\n      <td>16.0</td>\n      <td>72</td>\n      <td>1</td>\n      <td>ford pinto (sw)</td>\n    </tr>\n    <tr>\n      <th>51</th>\n      <td>30.0</td>\n      <td>4</td>\n      <td>79.0</td>\n      <td>70</td>\n      <td>2074</td>\n      <td>19.5</td>\n      <td>71</td>\n      <td>2</td>\n      <td>peugeot 304</td>\n    </tr>\n    <tr>\n      <th>195</th>\n      <td>29.0</td>\n      <td>4</td>\n      <td>85.0</td>\n      <td>52</td>\n      <td>2035</td>\n      <td>22.2</td>\n      <td>76</td>\n      <td>1</td>\n      <td>chevrolet chevette</td>\n    </tr>\n    <tr>\n      <th>284</th>\n      <td>20.6</td>\n      <td>6</td>\n      <td>225.0</td>\n      <td>110</td>\n      <td>3360</td>\n      <td>16.6</td>\n      <td>79</td>\n      <td>1</td>\n      <td>dodge aspen 6</td>\n    </tr>\n    <tr>\n      <th>197</th>\n      <td>29.0</td>\n      <td>4</td>\n      <td>90.0</td>\n      <td>70</td>\n      <td>1937</td>\n      <td>14.2</td>\n      <td>76</td>\n      <td>2</td>\n      <td>vw rabbit</td>\n    </tr>\n    <tr>\n      <th>384</th>\n      <td>32.0</td>\n      <td>4</td>\n      <td>91.0</td>\n      <td>67</td>\n      <td>1965</td>\n      <td>15.7</td>\n      <td>82</td>\n      <td>3</td>\n      <td>honda civic (auto)</td>\n    </tr>\n    <tr>\n      <th>343</th>\n      <td>39.1</td>\n      <td>4</td>\n      <td>79.0</td>\n      <td>58</td>\n      <td>1755</td>\n      <td>16.9</td>\n      <td>81</td>\n      <td>3</td>\n      <td>toyota starlet</td>\n    </tr>\n    <tr>\n      <th>52</th>\n      <td>30.0</td>\n      <td>4</td>\n      <td>88.0</td>\n      <td>76</td>\n      <td>2065</td>\n      <td>14.5</td>\n      <td>71</td>\n      <td>2</td>\n      <td>fiat 124b</td>\n    </tr>\n    <tr>\n      <th>103</th>\n      <td>11.0</td>\n      <td>8</td>\n      <td>400.0</td>\n      <td>150</td>\n      <td>4997</td>\n      <td>14.0</td>\n      <td>73</td>\n      <td>1</td>\n      <td>chevrolet impala</td>\n    </tr>\n    <tr>\n      <th>347</th>\n      <td>37.0</td>\n      <td>4</td>\n      <td>85.0</td>\n      <td>65</td>\n      <td>1975</td>\n      <td>19.4</td>\n      <td>81</td>\n      <td>3</td>\n      <td>datsun 210 mpg</td>\n    </tr>\n    <tr>\n      <th>0</th>\n      <td>18.0</td>\n      <td>8</td>\n      <td>307.0</td>\n      <td>130</td>\n      <td>3504</td>\n      <td>12.0</td>\n      <td>70</td>\n      <td>1</td>\n      <td>chevrolet chevelle malibu</td>\n    </tr>\n    <tr>\n      <th>100</th>\n      <td>18.0</td>\n      <td>6</td>\n      <td>250.0</td>\n      <td>88</td>\n      <td>3021</td>\n      <td>16.5</td>\n      <td>73</td>\n      <td>1</td>\n      <td>ford maverick</td>\n    </tr>\n    <tr>\n      <th>259</th>\n      <td>20.8</td>\n      <td>6</td>\n      <td>200.0</td>\n      <td>85</td>\n      <td>3070</td>\n      <td>16.7</td>\n      <td>78</td>\n      <td>1</td>\n      <td>mercury zephyr</td>\n    </tr>\n    <tr>\n      <th>378</th>\n      <td>38.0</td>\n      <td>4</td>\n      <td>105.0</td>\n      <td>63</td>\n      <td>2125</td>\n      <td>14.7</td>\n      <td>82</td>\n      <td>1</td>\n      <td>plymouth horizon miser</td>\n    </tr>\n    <tr>\n      <th>177</th>\n      <td>23.0</td>\n      <td>4</td>\n      <td>115.0</td>\n      <td>95</td>\n      <td>2694</td>\n      <td>15.0</td>\n      <td>75</td>\n      <td>2</td>\n      <td>audi 100ls</td>\n    </tr>\n    <tr>\n      <th>48</th>\n      <td>18.0</td>\n      <td>6</td>\n      <td>250.0</td>\n      <td>88</td>\n      <td>3139</td>\n      <td>14.5</td>\n      <td>71</td>\n      <td>1</td>\n      <td>ford mustang</td>\n    </tr>\n    <tr>\n      <th>225</th>\n      <td>17.5</td>\n      <td>6</td>\n      <td>250.0</td>\n      <td>110</td>\n      <td>3520</td>\n      <td>16.4</td>\n      <td>77</td>\n      <td>1</td>\n      <td>chevrolet concours</td>\n    </tr>\n    <tr>\n      <th>148</th>\n      <td>26.0</td>\n      <td>4</td>\n      <td>116.0</td>\n      <td>75</td>\n      <td>2246</td>\n      <td>14.0</td>\n      <td>74</td>\n      <td>2</td>\n      <td>fiat 124 tc</td>\n    </tr>\n  </tbody>\n</table>\n</div>"
     },
     "execution_count": 20,
     "metadata": {},
     "output_type": "execute_result"
    }
   ],
   "source": [
    "df.sample(20)"
   ],
   "metadata": {
    "collapsed": false
   }
  },
  {
   "cell_type": "code",
   "execution_count": 21,
   "outputs": [],
   "source": [
    "df.replace('?', float(0), inplace=True)"
   ],
   "metadata": {
    "collapsed": false
   }
  },
  {
   "cell_type": "code",
   "execution_count": 28,
   "outputs": [
    {
     "data": {
      "text/plain": "      mpg  cyl   disp   hp    wt   acc  yr  origin  \\\n202  17.5    6  258.0   95  3193  17.8  76       1   \n132  25.0    4  140.0   75  2542  17.0  74       1   \n119  20.0    4  114.0   91  2582  14.0  73       2   \n387  38.0    6  262.0   85  3015  17.0  82       1   \n343  39.1    4   79.0   58  1755  16.9  81       3   \n201  18.5    6  250.0  110  3645  16.2  76       1   \n288  18.2    8  318.0  135  3830  15.2  79       1   \n117  29.0    4   68.0   49  1867  19.5  73       2   \n354  34.5    4  100.0  0.0  2320  15.8  81       2   \n280  21.5    6  231.0  115  3245  15.4  79       1   \n223  15.5    8  318.0  145  4140  13.7  77       1   \n254  20.2    6  200.0   85  2965  15.8  78       1   \n38   14.0    8  350.0  165  4209  12.0  71       1   \n133  16.0    6  250.0  100  3781  17.0  74       1   \n109  21.0    4  140.0   72  2401  19.5  73       1   \n216  31.5    4   98.0   68  2045  18.5  77       3   \n47   19.0    6  250.0  100  3282  15.0  71       1   \n220  33.5    4   85.0   70  1945  16.8  77       3   \n91   13.0    8  400.0  150  4464  12.0  73       1   \n155  15.0    6  250.0   72  3158  19.5  75       1   \n\n                              car name  \n202                      amc pacer d/l  \n132                     chevrolet vega  \n119                         audi 100ls  \n387  oldsmobile cutlass ciera (diesel)  \n343                     toyota starlet  \n201                 pontiac ventura sj  \n288                    dodge st. regis  \n117                           fiat 128  \n354                        renault 18i  \n280                  pontiac lemans v6  \n223              dodge monaco brougham  \n254               ford fairmont (auto)  \n38                    chevrolet impala  \n133  chevrolet chevelle malibu classic  \n109                     chevrolet vega  \n216                  honda accord cvcc  \n47                    pontiac firebird  \n220              datsun f-10 hatchback  \n91           chevrolet caprice classic  \n155                      ford maverick  ",
      "text/html": "<div>\n<style scoped>\n    .dataframe tbody tr th:only-of-type {\n        vertical-align: middle;\n    }\n\n    .dataframe tbody tr th {\n        vertical-align: top;\n    }\n\n    .dataframe thead th {\n        text-align: right;\n    }\n</style>\n<table border=\"1\" class=\"dataframe\">\n  <thead>\n    <tr style=\"text-align: right;\">\n      <th></th>\n      <th>mpg</th>\n      <th>cyl</th>\n      <th>disp</th>\n      <th>hp</th>\n      <th>wt</th>\n      <th>acc</th>\n      <th>yr</th>\n      <th>origin</th>\n      <th>car name</th>\n    </tr>\n  </thead>\n  <tbody>\n    <tr>\n      <th>202</th>\n      <td>17.5</td>\n      <td>6</td>\n      <td>258.0</td>\n      <td>95</td>\n      <td>3193</td>\n      <td>17.8</td>\n      <td>76</td>\n      <td>1</td>\n      <td>amc pacer d/l</td>\n    </tr>\n    <tr>\n      <th>132</th>\n      <td>25.0</td>\n      <td>4</td>\n      <td>140.0</td>\n      <td>75</td>\n      <td>2542</td>\n      <td>17.0</td>\n      <td>74</td>\n      <td>1</td>\n      <td>chevrolet vega</td>\n    </tr>\n    <tr>\n      <th>119</th>\n      <td>20.0</td>\n      <td>4</td>\n      <td>114.0</td>\n      <td>91</td>\n      <td>2582</td>\n      <td>14.0</td>\n      <td>73</td>\n      <td>2</td>\n      <td>audi 100ls</td>\n    </tr>\n    <tr>\n      <th>387</th>\n      <td>38.0</td>\n      <td>6</td>\n      <td>262.0</td>\n      <td>85</td>\n      <td>3015</td>\n      <td>17.0</td>\n      <td>82</td>\n      <td>1</td>\n      <td>oldsmobile cutlass ciera (diesel)</td>\n    </tr>\n    <tr>\n      <th>343</th>\n      <td>39.1</td>\n      <td>4</td>\n      <td>79.0</td>\n      <td>58</td>\n      <td>1755</td>\n      <td>16.9</td>\n      <td>81</td>\n      <td>3</td>\n      <td>toyota starlet</td>\n    </tr>\n    <tr>\n      <th>201</th>\n      <td>18.5</td>\n      <td>6</td>\n      <td>250.0</td>\n      <td>110</td>\n      <td>3645</td>\n      <td>16.2</td>\n      <td>76</td>\n      <td>1</td>\n      <td>pontiac ventura sj</td>\n    </tr>\n    <tr>\n      <th>288</th>\n      <td>18.2</td>\n      <td>8</td>\n      <td>318.0</td>\n      <td>135</td>\n      <td>3830</td>\n      <td>15.2</td>\n      <td>79</td>\n      <td>1</td>\n      <td>dodge st. regis</td>\n    </tr>\n    <tr>\n      <th>117</th>\n      <td>29.0</td>\n      <td>4</td>\n      <td>68.0</td>\n      <td>49</td>\n      <td>1867</td>\n      <td>19.5</td>\n      <td>73</td>\n      <td>2</td>\n      <td>fiat 128</td>\n    </tr>\n    <tr>\n      <th>354</th>\n      <td>34.5</td>\n      <td>4</td>\n      <td>100.0</td>\n      <td>0.0</td>\n      <td>2320</td>\n      <td>15.8</td>\n      <td>81</td>\n      <td>2</td>\n      <td>renault 18i</td>\n    </tr>\n    <tr>\n      <th>280</th>\n      <td>21.5</td>\n      <td>6</td>\n      <td>231.0</td>\n      <td>115</td>\n      <td>3245</td>\n      <td>15.4</td>\n      <td>79</td>\n      <td>1</td>\n      <td>pontiac lemans v6</td>\n    </tr>\n    <tr>\n      <th>223</th>\n      <td>15.5</td>\n      <td>8</td>\n      <td>318.0</td>\n      <td>145</td>\n      <td>4140</td>\n      <td>13.7</td>\n      <td>77</td>\n      <td>1</td>\n      <td>dodge monaco brougham</td>\n    </tr>\n    <tr>\n      <th>254</th>\n      <td>20.2</td>\n      <td>6</td>\n      <td>200.0</td>\n      <td>85</td>\n      <td>2965</td>\n      <td>15.8</td>\n      <td>78</td>\n      <td>1</td>\n      <td>ford fairmont (auto)</td>\n    </tr>\n    <tr>\n      <th>38</th>\n      <td>14.0</td>\n      <td>8</td>\n      <td>350.0</td>\n      <td>165</td>\n      <td>4209</td>\n      <td>12.0</td>\n      <td>71</td>\n      <td>1</td>\n      <td>chevrolet impala</td>\n    </tr>\n    <tr>\n      <th>133</th>\n      <td>16.0</td>\n      <td>6</td>\n      <td>250.0</td>\n      <td>100</td>\n      <td>3781</td>\n      <td>17.0</td>\n      <td>74</td>\n      <td>1</td>\n      <td>chevrolet chevelle malibu classic</td>\n    </tr>\n    <tr>\n      <th>109</th>\n      <td>21.0</td>\n      <td>4</td>\n      <td>140.0</td>\n      <td>72</td>\n      <td>2401</td>\n      <td>19.5</td>\n      <td>73</td>\n      <td>1</td>\n      <td>chevrolet vega</td>\n    </tr>\n    <tr>\n      <th>216</th>\n      <td>31.5</td>\n      <td>4</td>\n      <td>98.0</td>\n      <td>68</td>\n      <td>2045</td>\n      <td>18.5</td>\n      <td>77</td>\n      <td>3</td>\n      <td>honda accord cvcc</td>\n    </tr>\n    <tr>\n      <th>47</th>\n      <td>19.0</td>\n      <td>6</td>\n      <td>250.0</td>\n      <td>100</td>\n      <td>3282</td>\n      <td>15.0</td>\n      <td>71</td>\n      <td>1</td>\n      <td>pontiac firebird</td>\n    </tr>\n    <tr>\n      <th>220</th>\n      <td>33.5</td>\n      <td>4</td>\n      <td>85.0</td>\n      <td>70</td>\n      <td>1945</td>\n      <td>16.8</td>\n      <td>77</td>\n      <td>3</td>\n      <td>datsun f-10 hatchback</td>\n    </tr>\n    <tr>\n      <th>91</th>\n      <td>13.0</td>\n      <td>8</td>\n      <td>400.0</td>\n      <td>150</td>\n      <td>4464</td>\n      <td>12.0</td>\n      <td>73</td>\n      <td>1</td>\n      <td>chevrolet caprice classic</td>\n    </tr>\n    <tr>\n      <th>155</th>\n      <td>15.0</td>\n      <td>6</td>\n      <td>250.0</td>\n      <td>72</td>\n      <td>3158</td>\n      <td>19.5</td>\n      <td>75</td>\n      <td>1</td>\n      <td>ford maverick</td>\n    </tr>\n  </tbody>\n</table>\n</div>"
     },
     "execution_count": 28,
     "metadata": {},
     "output_type": "execute_result"
    }
   ],
   "source": [
    "df.sample(20)"
   ],
   "metadata": {
    "collapsed": false
   }
  },
  {
   "cell_type": "code",
   "execution_count": 29,
   "outputs": [
    {
     "data": {
      "text/plain": "mpg         float64\ncyl           int64\ndisp        float64\nhp           object\nwt            int64\nacc         float64\nyr            int64\norigin        int64\ncar name     object\ndtype: object"
     },
     "execution_count": 29,
     "metadata": {},
     "output_type": "execute_result"
    }
   ],
   "source": [
    "df.dtypes"
   ],
   "metadata": {
    "collapsed": false
   }
  },
  {
   "cell_type": "code",
   "execution_count": 30,
   "outputs": [
    {
     "ename": "TypeError",
     "evalue": "can only concatenate str (not \"float\") to str",
     "output_type": "error",
     "traceback": [
      "\u001B[1;31m---------------------------------------------------------------------------\u001B[0m",
      "\u001B[1;31mTypeError\u001B[0m                                 Traceback (most recent call last)",
      "\u001B[1;32m~\\AppData\\Local\\Temp\\ipykernel_12644\\3978807164.py\u001B[0m in \u001B[0;36m<module>\u001B[1;34m\u001B[0m\n\u001B[1;32m----> 1\u001B[1;33m \u001B[0mmean1\u001B[0m \u001B[1;33m=\u001B[0m \u001B[0mdf\u001B[0m\u001B[1;33m[\u001B[0m\u001B[1;34m\"hp\"\u001B[0m\u001B[1;33m]\u001B[0m\u001B[1;33m.\u001B[0m\u001B[0mmean\u001B[0m\u001B[1;33m(\u001B[0m\u001B[1;33m)\u001B[0m\u001B[1;33m\u001B[0m\u001B[1;33m\u001B[0m\u001B[0m\n\u001B[0m\u001B[0;32m      2\u001B[0m \u001B[0mmean1\u001B[0m\u001B[1;33m\u001B[0m\u001B[1;33m\u001B[0m\u001B[0m\n",
      "\u001B[1;32m~\\anaconda3\\lib\\site-packages\\pandas\\core\\generic.py\u001B[0m in \u001B[0;36mmean\u001B[1;34m(self, axis, skipna, level, numeric_only, **kwargs)\u001B[0m\n\u001B[0;32m  11122\u001B[0m             \u001B[1;33m**\u001B[0m\u001B[0mkwargs\u001B[0m\u001B[1;33m,\u001B[0m\u001B[1;33m\u001B[0m\u001B[1;33m\u001B[0m\u001B[0m\n\u001B[0;32m  11123\u001B[0m         ):\n\u001B[1;32m> 11124\u001B[1;33m             \u001B[1;32mreturn\u001B[0m \u001B[0mNDFrame\u001B[0m\u001B[1;33m.\u001B[0m\u001B[0mmean\u001B[0m\u001B[1;33m(\u001B[0m\u001B[0mself\u001B[0m\u001B[1;33m,\u001B[0m \u001B[0maxis\u001B[0m\u001B[1;33m,\u001B[0m \u001B[0mskipna\u001B[0m\u001B[1;33m,\u001B[0m \u001B[0mlevel\u001B[0m\u001B[1;33m,\u001B[0m \u001B[0mnumeric_only\u001B[0m\u001B[1;33m,\u001B[0m \u001B[1;33m**\u001B[0m\u001B[0mkwargs\u001B[0m\u001B[1;33m)\u001B[0m\u001B[1;33m\u001B[0m\u001B[1;33m\u001B[0m\u001B[0m\n\u001B[0m\u001B[0;32m  11125\u001B[0m \u001B[1;33m\u001B[0m\u001B[0m\n\u001B[0;32m  11126\u001B[0m         \u001B[0msetattr\u001B[0m\u001B[1;33m(\u001B[0m\u001B[0mcls\u001B[0m\u001B[1;33m,\u001B[0m \u001B[1;34m\"mean\"\u001B[0m\u001B[1;33m,\u001B[0m \u001B[0mmean\u001B[0m\u001B[1;33m)\u001B[0m\u001B[1;33m\u001B[0m\u001B[1;33m\u001B[0m\u001B[0m\n",
      "\u001B[1;32m~\\anaconda3\\lib\\site-packages\\pandas\\core\\generic.py\u001B[0m in \u001B[0;36mmean\u001B[1;34m(self, axis, skipna, level, numeric_only, **kwargs)\u001B[0m\n\u001B[0;32m  10692\u001B[0m         \u001B[1;33m**\u001B[0m\u001B[0mkwargs\u001B[0m\u001B[1;33m,\u001B[0m\u001B[1;33m\u001B[0m\u001B[1;33m\u001B[0m\u001B[0m\n\u001B[0;32m  10693\u001B[0m     ) -> Series | float:\n\u001B[1;32m> 10694\u001B[1;33m         return self._stat_function(\n\u001B[0m\u001B[0;32m  10695\u001B[0m             \u001B[1;34m\"mean\"\u001B[0m\u001B[1;33m,\u001B[0m \u001B[0mnanops\u001B[0m\u001B[1;33m.\u001B[0m\u001B[0mnanmean\u001B[0m\u001B[1;33m,\u001B[0m \u001B[0maxis\u001B[0m\u001B[1;33m,\u001B[0m \u001B[0mskipna\u001B[0m\u001B[1;33m,\u001B[0m \u001B[0mlevel\u001B[0m\u001B[1;33m,\u001B[0m \u001B[0mnumeric_only\u001B[0m\u001B[1;33m,\u001B[0m \u001B[1;33m**\u001B[0m\u001B[0mkwargs\u001B[0m\u001B[1;33m\u001B[0m\u001B[1;33m\u001B[0m\u001B[0m\n\u001B[0;32m  10696\u001B[0m         )\n",
      "\u001B[1;32m~\\anaconda3\\lib\\site-packages\\pandas\\core\\generic.py\u001B[0m in \u001B[0;36m_stat_function\u001B[1;34m(self, name, func, axis, skipna, level, numeric_only, **kwargs)\u001B[0m\n\u001B[0;32m  10644\u001B[0m                 \u001B[0mname\u001B[0m\u001B[1;33m,\u001B[0m \u001B[0maxis\u001B[0m\u001B[1;33m=\u001B[0m\u001B[0maxis\u001B[0m\u001B[1;33m,\u001B[0m \u001B[0mlevel\u001B[0m\u001B[1;33m=\u001B[0m\u001B[0mlevel\u001B[0m\u001B[1;33m,\u001B[0m \u001B[0mskipna\u001B[0m\u001B[1;33m=\u001B[0m\u001B[0mskipna\u001B[0m\u001B[1;33m,\u001B[0m \u001B[0mnumeric_only\u001B[0m\u001B[1;33m=\u001B[0m\u001B[0mnumeric_only\u001B[0m\u001B[1;33m\u001B[0m\u001B[1;33m\u001B[0m\u001B[0m\n\u001B[0;32m  10645\u001B[0m             )\n\u001B[1;32m> 10646\u001B[1;33m         return self._reduce(\n\u001B[0m\u001B[0;32m  10647\u001B[0m             \u001B[0mfunc\u001B[0m\u001B[1;33m,\u001B[0m \u001B[0mname\u001B[0m\u001B[1;33m=\u001B[0m\u001B[0mname\u001B[0m\u001B[1;33m,\u001B[0m \u001B[0maxis\u001B[0m\u001B[1;33m=\u001B[0m\u001B[0maxis\u001B[0m\u001B[1;33m,\u001B[0m \u001B[0mskipna\u001B[0m\u001B[1;33m=\u001B[0m\u001B[0mskipna\u001B[0m\u001B[1;33m,\u001B[0m \u001B[0mnumeric_only\u001B[0m\u001B[1;33m=\u001B[0m\u001B[0mnumeric_only\u001B[0m\u001B[1;33m\u001B[0m\u001B[1;33m\u001B[0m\u001B[0m\n\u001B[0;32m  10648\u001B[0m         )\n",
      "\u001B[1;32m~\\anaconda3\\lib\\site-packages\\pandas\\core\\series.py\u001B[0m in \u001B[0;36m_reduce\u001B[1;34m(self, op, name, axis, skipna, numeric_only, filter_type, **kwds)\u001B[0m\n\u001B[0;32m   4469\u001B[0m                 )\n\u001B[0;32m   4470\u001B[0m             \u001B[1;32mwith\u001B[0m \u001B[0mnp\u001B[0m\u001B[1;33m.\u001B[0m\u001B[0merrstate\u001B[0m\u001B[1;33m(\u001B[0m\u001B[0mall\u001B[0m\u001B[1;33m=\u001B[0m\u001B[1;34m\"ignore\"\u001B[0m\u001B[1;33m)\u001B[0m\u001B[1;33m:\u001B[0m\u001B[1;33m\u001B[0m\u001B[1;33m\u001B[0m\u001B[0m\n\u001B[1;32m-> 4471\u001B[1;33m                 \u001B[1;32mreturn\u001B[0m \u001B[0mop\u001B[0m\u001B[1;33m(\u001B[0m\u001B[0mdelegate\u001B[0m\u001B[1;33m,\u001B[0m \u001B[0mskipna\u001B[0m\u001B[1;33m=\u001B[0m\u001B[0mskipna\u001B[0m\u001B[1;33m,\u001B[0m \u001B[1;33m**\u001B[0m\u001B[0mkwds\u001B[0m\u001B[1;33m)\u001B[0m\u001B[1;33m\u001B[0m\u001B[1;33m\u001B[0m\u001B[0m\n\u001B[0m\u001B[0;32m   4472\u001B[0m \u001B[1;33m\u001B[0m\u001B[0m\n\u001B[0;32m   4473\u001B[0m     def _reindex_indexer(\n",
      "\u001B[1;32m~\\anaconda3\\lib\\site-packages\\pandas\\core\\nanops.py\u001B[0m in \u001B[0;36m_f\u001B[1;34m(*args, **kwargs)\u001B[0m\n\u001B[0;32m     91\u001B[0m             \u001B[1;32mtry\u001B[0m\u001B[1;33m:\u001B[0m\u001B[1;33m\u001B[0m\u001B[1;33m\u001B[0m\u001B[0m\n\u001B[0;32m     92\u001B[0m                 \u001B[1;32mwith\u001B[0m \u001B[0mnp\u001B[0m\u001B[1;33m.\u001B[0m\u001B[0merrstate\u001B[0m\u001B[1;33m(\u001B[0m\u001B[0minvalid\u001B[0m\u001B[1;33m=\u001B[0m\u001B[1;34m\"ignore\"\u001B[0m\u001B[1;33m)\u001B[0m\u001B[1;33m:\u001B[0m\u001B[1;33m\u001B[0m\u001B[1;33m\u001B[0m\u001B[0m\n\u001B[1;32m---> 93\u001B[1;33m                     \u001B[1;32mreturn\u001B[0m \u001B[0mf\u001B[0m\u001B[1;33m(\u001B[0m\u001B[1;33m*\u001B[0m\u001B[0margs\u001B[0m\u001B[1;33m,\u001B[0m \u001B[1;33m**\u001B[0m\u001B[0mkwargs\u001B[0m\u001B[1;33m)\u001B[0m\u001B[1;33m\u001B[0m\u001B[1;33m\u001B[0m\u001B[0m\n\u001B[0m\u001B[0;32m     94\u001B[0m             \u001B[1;32mexcept\u001B[0m \u001B[0mValueError\u001B[0m \u001B[1;32mas\u001B[0m \u001B[0me\u001B[0m\u001B[1;33m:\u001B[0m\u001B[1;33m\u001B[0m\u001B[1;33m\u001B[0m\u001B[0m\n\u001B[0;32m     95\u001B[0m                 \u001B[1;31m# we want to transform an object array\u001B[0m\u001B[1;33m\u001B[0m\u001B[1;33m\u001B[0m\u001B[0m\n",
      "\u001B[1;32m~\\anaconda3\\lib\\site-packages\\pandas\\core\\nanops.py\u001B[0m in \u001B[0;36mf\u001B[1;34m(values, axis, skipna, **kwds)\u001B[0m\n\u001B[0;32m    153\u001B[0m                     \u001B[0mresult\u001B[0m \u001B[1;33m=\u001B[0m \u001B[0malt\u001B[0m\u001B[1;33m(\u001B[0m\u001B[0mvalues\u001B[0m\u001B[1;33m,\u001B[0m \u001B[0maxis\u001B[0m\u001B[1;33m=\u001B[0m\u001B[0maxis\u001B[0m\u001B[1;33m,\u001B[0m \u001B[0mskipna\u001B[0m\u001B[1;33m=\u001B[0m\u001B[0mskipna\u001B[0m\u001B[1;33m,\u001B[0m \u001B[1;33m**\u001B[0m\u001B[0mkwds\u001B[0m\u001B[1;33m)\u001B[0m\u001B[1;33m\u001B[0m\u001B[1;33m\u001B[0m\u001B[0m\n\u001B[0;32m    154\u001B[0m             \u001B[1;32melse\u001B[0m\u001B[1;33m:\u001B[0m\u001B[1;33m\u001B[0m\u001B[1;33m\u001B[0m\u001B[0m\n\u001B[1;32m--> 155\u001B[1;33m                 \u001B[0mresult\u001B[0m \u001B[1;33m=\u001B[0m \u001B[0malt\u001B[0m\u001B[1;33m(\u001B[0m\u001B[0mvalues\u001B[0m\u001B[1;33m,\u001B[0m \u001B[0maxis\u001B[0m\u001B[1;33m=\u001B[0m\u001B[0maxis\u001B[0m\u001B[1;33m,\u001B[0m \u001B[0mskipna\u001B[0m\u001B[1;33m=\u001B[0m\u001B[0mskipna\u001B[0m\u001B[1;33m,\u001B[0m \u001B[1;33m**\u001B[0m\u001B[0mkwds\u001B[0m\u001B[1;33m)\u001B[0m\u001B[1;33m\u001B[0m\u001B[1;33m\u001B[0m\u001B[0m\n\u001B[0m\u001B[0;32m    156\u001B[0m \u001B[1;33m\u001B[0m\u001B[0m\n\u001B[0;32m    157\u001B[0m             \u001B[1;32mreturn\u001B[0m \u001B[0mresult\u001B[0m\u001B[1;33m\u001B[0m\u001B[1;33m\u001B[0m\u001B[0m\n",
      "\u001B[1;32m~\\anaconda3\\lib\\site-packages\\pandas\\core\\nanops.py\u001B[0m in \u001B[0;36mnew_func\u001B[1;34m(values, axis, skipna, mask, **kwargs)\u001B[0m\n\u001B[0;32m    408\u001B[0m             \u001B[0mmask\u001B[0m \u001B[1;33m=\u001B[0m \u001B[0misna\u001B[0m\u001B[1;33m(\u001B[0m\u001B[0mvalues\u001B[0m\u001B[1;33m)\u001B[0m\u001B[1;33m\u001B[0m\u001B[1;33m\u001B[0m\u001B[0m\n\u001B[0;32m    409\u001B[0m \u001B[1;33m\u001B[0m\u001B[0m\n\u001B[1;32m--> 410\u001B[1;33m         \u001B[0mresult\u001B[0m \u001B[1;33m=\u001B[0m \u001B[0mfunc\u001B[0m\u001B[1;33m(\u001B[0m\u001B[0mvalues\u001B[0m\u001B[1;33m,\u001B[0m \u001B[0maxis\u001B[0m\u001B[1;33m=\u001B[0m\u001B[0maxis\u001B[0m\u001B[1;33m,\u001B[0m \u001B[0mskipna\u001B[0m\u001B[1;33m=\u001B[0m\u001B[0mskipna\u001B[0m\u001B[1;33m,\u001B[0m \u001B[0mmask\u001B[0m\u001B[1;33m=\u001B[0m\u001B[0mmask\u001B[0m\u001B[1;33m,\u001B[0m \u001B[1;33m**\u001B[0m\u001B[0mkwargs\u001B[0m\u001B[1;33m)\u001B[0m\u001B[1;33m\u001B[0m\u001B[1;33m\u001B[0m\u001B[0m\n\u001B[0m\u001B[0;32m    411\u001B[0m \u001B[1;33m\u001B[0m\u001B[0m\n\u001B[0;32m    412\u001B[0m         \u001B[1;32mif\u001B[0m \u001B[0mdatetimelike\u001B[0m\u001B[1;33m:\u001B[0m\u001B[1;33m\u001B[0m\u001B[1;33m\u001B[0m\u001B[0m\n",
      "\u001B[1;32m~\\anaconda3\\lib\\site-packages\\pandas\\core\\nanops.py\u001B[0m in \u001B[0;36mnanmean\u001B[1;34m(values, axis, skipna, mask)\u001B[0m\n\u001B[0;32m    696\u001B[0m \u001B[1;33m\u001B[0m\u001B[0m\n\u001B[0;32m    697\u001B[0m     \u001B[0mcount\u001B[0m \u001B[1;33m=\u001B[0m \u001B[0m_get_counts\u001B[0m\u001B[1;33m(\u001B[0m\u001B[0mvalues\u001B[0m\u001B[1;33m.\u001B[0m\u001B[0mshape\u001B[0m\u001B[1;33m,\u001B[0m \u001B[0mmask\u001B[0m\u001B[1;33m,\u001B[0m \u001B[0maxis\u001B[0m\u001B[1;33m,\u001B[0m \u001B[0mdtype\u001B[0m\u001B[1;33m=\u001B[0m\u001B[0mdtype_count\u001B[0m\u001B[1;33m)\u001B[0m\u001B[1;33m\u001B[0m\u001B[1;33m\u001B[0m\u001B[0m\n\u001B[1;32m--> 698\u001B[1;33m     \u001B[0mthe_sum\u001B[0m \u001B[1;33m=\u001B[0m \u001B[0m_ensure_numeric\u001B[0m\u001B[1;33m(\u001B[0m\u001B[0mvalues\u001B[0m\u001B[1;33m.\u001B[0m\u001B[0msum\u001B[0m\u001B[1;33m(\u001B[0m\u001B[0maxis\u001B[0m\u001B[1;33m,\u001B[0m \u001B[0mdtype\u001B[0m\u001B[1;33m=\u001B[0m\u001B[0mdtype_sum\u001B[0m\u001B[1;33m)\u001B[0m\u001B[1;33m)\u001B[0m\u001B[1;33m\u001B[0m\u001B[1;33m\u001B[0m\u001B[0m\n\u001B[0m\u001B[0;32m    699\u001B[0m \u001B[1;33m\u001B[0m\u001B[0m\n\u001B[0;32m    700\u001B[0m     \u001B[1;32mif\u001B[0m \u001B[0maxis\u001B[0m \u001B[1;32mis\u001B[0m \u001B[1;32mnot\u001B[0m \u001B[1;32mNone\u001B[0m \u001B[1;32mand\u001B[0m \u001B[0mgetattr\u001B[0m\u001B[1;33m(\u001B[0m\u001B[0mthe_sum\u001B[0m\u001B[1;33m,\u001B[0m \u001B[1;34m\"ndim\"\u001B[0m\u001B[1;33m,\u001B[0m \u001B[1;32mFalse\u001B[0m\u001B[1;33m)\u001B[0m\u001B[1;33m:\u001B[0m\u001B[1;33m\u001B[0m\u001B[1;33m\u001B[0m\u001B[0m\n",
      "\u001B[1;32m~\\anaconda3\\lib\\site-packages\\numpy\\core\\_methods.py\u001B[0m in \u001B[0;36m_sum\u001B[1;34m(a, axis, dtype, out, keepdims, initial, where)\u001B[0m\n\u001B[0;32m     46\u001B[0m def _sum(a, axis=None, dtype=None, out=None, keepdims=False,\n\u001B[0;32m     47\u001B[0m          initial=_NoValue, where=True):\n\u001B[1;32m---> 48\u001B[1;33m     \u001B[1;32mreturn\u001B[0m \u001B[0mumr_sum\u001B[0m\u001B[1;33m(\u001B[0m\u001B[0ma\u001B[0m\u001B[1;33m,\u001B[0m \u001B[0maxis\u001B[0m\u001B[1;33m,\u001B[0m \u001B[0mdtype\u001B[0m\u001B[1;33m,\u001B[0m \u001B[0mout\u001B[0m\u001B[1;33m,\u001B[0m \u001B[0mkeepdims\u001B[0m\u001B[1;33m,\u001B[0m \u001B[0minitial\u001B[0m\u001B[1;33m,\u001B[0m \u001B[0mwhere\u001B[0m\u001B[1;33m)\u001B[0m\u001B[1;33m\u001B[0m\u001B[1;33m\u001B[0m\u001B[0m\n\u001B[0m\u001B[0;32m     49\u001B[0m \u001B[1;33m\u001B[0m\u001B[0m\n\u001B[0;32m     50\u001B[0m def _prod(a, axis=None, dtype=None, out=None, keepdims=False,\n",
      "\u001B[1;31mTypeError\u001B[0m: can only concatenate str (not \"float\") to str"
     ]
    }
   ],
   "source": [
    "mean1 = df[\"hp\"].mean()\n",
    "mean1"
   ],
   "metadata": {
    "collapsed": false
   }
  },
  {
   "cell_type": "code",
   "execution_count": null,
   "outputs": [],
   "source": [],
   "metadata": {
    "collapsed": false
   }
  }
 ],
 "metadata": {
  "kernelspec": {
   "display_name": "Python 3",
   "language": "python",
   "name": "python3"
  },
  "language_info": {
   "codemirror_mode": {
    "name": "ipython",
    "version": 2
   },
   "file_extension": ".py",
   "mimetype": "text/x-python",
   "name": "python",
   "nbconvert_exporter": "python",
   "pygments_lexer": "ipython2",
   "version": "2.7.6"
  }
 },
 "nbformat": 4,
 "nbformat_minor": 0
}
