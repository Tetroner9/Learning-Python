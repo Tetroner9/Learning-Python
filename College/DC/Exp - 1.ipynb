{
 "cells": [
  {
   "cell_type": "code",
   "execution_count": 8,
   "id": "initial_id",
   "metadata": {
    "collapsed": true,
    "ExecuteTime": {
     "end_time": "2023-07-31T18:48:49.777388657Z",
     "start_time": "2023-07-31T18:48:49.729754250Z"
    }
   },
   "outputs": [],
   "source": [
    "import numpy as np\n",
    "import warnings\n",
    "warnings.filterwarnings(\"ignore\", category=DeprecationWarning)"
   ]
  },
  {
   "cell_type": "code",
   "execution_count": 9,
   "outputs": [
    {
     "name": "stdout",
     "output_type": "stream",
     "text": [
      "[[0.125   0.0625  0.03125 0.03125]\n",
      " [0.0625  0.125   0.03125 0.03125]\n",
      " [0.0625  0.0625  0.0625  0.0625 ]\n",
      " [0.25    0.      0.      0.     ]]\n"
     ]
    }
   ],
   "source": [
    "joint = np.array([[1/8,1/16,1/32,1/32], [1/16,1/8,1/32,1/32], [1/16,1/16,1/16,1/16], [1/4,0,0,0] ])\n",
    "print(joint)"
   ],
   "metadata": {
    "collapsed": false,
    "ExecuteTime": {
     "end_time": "2023-07-31T18:48:49.778017520Z",
     "start_time": "2023-07-31T18:48:49.774608308Z"
    }
   },
   "id": "39447e16a8348913"
  },
  {
   "cell_type": "code",
   "execution_count": 10,
   "outputs": [
    {
     "data": {
      "text/plain": "3.375"
     },
     "execution_count": 10,
     "metadata": {},
     "output_type": "execute_result"
    }
   ],
   "source": [
    "joint_temp=joint.flatten()\n",
    "H_XY=-np.sum(p*np.log2(p) for p in joint_temp if p>0)\n",
    "H_XY"
   ],
   "metadata": {
    "collapsed": false,
    "ExecuteTime": {
     "end_time": "2023-07-31T18:48:49.778571236Z",
     "start_time": "2023-07-31T18:48:49.774869174Z"
    }
   },
   "id": "497dd02097ae741"
  },
  {
   "cell_type": "code",
   "execution_count": 11,
   "outputs": [
    {
     "name": "stdout",
     "output_type": "stream",
     "text": [
      "\n",
      "PX =  [0.25 0.25 0.25 0.25]\n",
      "\n",
      "HX =  2.0\n",
      "\n",
      "PY =  [0.5   0.25  0.125 0.125]\n",
      "\n",
      "HY =  1.75\n"
     ]
    }
   ],
   "source": [
    "PX = np.sum(joint,axis = 1)\n",
    "print(\"\\nPX = \",PX)\n",
    "\n",
    "HX = -np.sum(p * np.log2(p) for p in PX if p>0)\n",
    "print(\"\\nHX = \",HX)\n",
    "\n",
    "PY = np.sum(joint,axis = 0)\n",
    "print(\"\\nPY = \",PY)\n",
    "\n",
    "HY = -np.sum(p * np.log2(p) for p in PY if p>0)\n",
    "print(\"\\nHY = \",HY)"
   ],
   "metadata": {
    "collapsed": false,
    "ExecuteTime": {
     "end_time": "2023-07-31T18:48:49.778968833Z",
     "start_time": "2023-07-31T18:48:49.775072192Z"
    }
   },
   "id": "5c9f4fda36a2457b"
  },
  {
   "cell_type": "code",
   "execution_count": 12,
   "outputs": [
    {
     "name": "stdout",
     "output_type": "stream",
     "text": [
      "\n",
      "P(X/Y) =  [[0.25  0.25  0.25  0.25 ]\n",
      " [0.125 0.5   0.25  0.25 ]\n",
      " [0.125 0.25  0.5   0.5  ]\n",
      " [0.5   0.    0.    0.   ]]\n",
      "\n",
      "H(X/Y) =  1.625\n"
     ]
    }
   ],
   "source": [
    "PX_given_Y = joint/PY\n",
    "print(\"\\nP(X/Y) = \",PX_given_Y )\n",
    "mask = PX_given_Y > 0\n",
    "\n",
    "HX_given_Y = -np.sum(joint[mask] * np.log2(PX_given_Y[mask]))\n",
    "print(\"\\nH(X/Y) = \",HX_given_Y)"
   ],
   "metadata": {
    "collapsed": false,
    "ExecuteTime": {
     "end_time": "2023-07-31T18:48:49.779230941Z",
     "start_time": "2023-07-31T18:48:49.775245311Z"
    }
   },
   "id": "15bc4fef16a9b60a"
  },
  {
   "cell_type": "code",
   "execution_count": 13,
   "outputs": [
    {
     "name": "stdout",
     "output_type": "stream",
     "text": [
      "Py_given_x =\n",
      " [[0.5   0.25  0.125 0.125]\n",
      " [0.25  0.5   0.125 0.125]\n",
      " [0.25  0.25  0.25  0.25 ]\n",
      " [1.    0.    0.    0.   ]]\n",
      "Hy_given_x =\n",
      " 1.375\n"
     ]
    }
   ],
   "source": [
    "PY_given_X=joint/PX\n",
    "print(\"Py_given_x =\\n\",PY_given_X)\n",
    "mask=PY_given_X>0\n",
    "\n",
    "HY_given_X=-np.sum(joint[mask]*np.log2(PY_given_X[mask]))\n",
    "print(\"Hy_given_x =\\n\",HY_given_X)"
   ],
   "metadata": {
    "collapsed": false,
    "ExecuteTime": {
     "end_time": "2023-07-31T18:48:49.779464262Z",
     "start_time": "2023-07-31T18:48:49.775409023Z"
    }
   },
   "id": "2be3be889085f0b2"
  },
  {
   "cell_type": "code",
   "execution_count": 14,
   "outputs": [
    {
     "name": "stdout",
     "output_type": "stream",
     "text": [
      "\n",
      "I(XY) =  0.375\n",
      "\n",
      "I(XY) =  0.375\n",
      "\n",
      "I(XY) =  0.375\n",
      "\n",
      "I(XY) =  0.375\n"
     ]
    }
   ],
   "source": [
    "IXY = HX + HY - H_XY\n",
    "print(\"\\nI(XY) = \", IXY)\n",
    "IXY = HX - HX_given_Y\n",
    "print(\"\\nI(XY) = \", IXY)\n",
    "IXY = HY - HY_given_X\n",
    "print(\"\\nI(XY) = \", IXY)\n",
    "IXY = H_XY - HX_given_Y - HY_given_X\n",
    "print(\"\\nI(XY) = \", IXY)"
   ],
   "metadata": {
    "collapsed": false,
    "ExecuteTime": {
     "end_time": "2023-07-31T18:48:49.779682938Z",
     "start_time": "2023-07-31T18:48:49.775665161Z"
    }
   },
   "id": "a858a6e788c98a73"
  }
 ],
 "metadata": {
  "kernelspec": {
   "display_name": "Python 3",
   "language": "python",
   "name": "python3"
  },
  "language_info": {
   "codemirror_mode": {
    "name": "ipython",
    "version": 2
   },
   "file_extension": ".py",
   "mimetype": "text/x-python",
   "name": "python",
   "nbconvert_exporter": "python",
   "pygments_lexer": "ipython2",
   "version": "2.7.6"
  }
 },
 "nbformat": 4,
 "nbformat_minor": 5
}
